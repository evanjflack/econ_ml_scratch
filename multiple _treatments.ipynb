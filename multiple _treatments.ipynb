{
 "cells": [
  {
   "cell_type": "code",
   "execution_count": 1,
   "metadata": {
    "collapsed": true,
    "pycharm": {
     "name": "#%%\n"
    }
   },
   "outputs": [],
   "source": [
    "import numpy as np\n",
    "import pandas as pd\n",
    "import scipy.stats as st\n",
    "from sklearn.ensemble import RandomForestClassifier, GradientBoostingRegressor"
   ]
  },
  {
   "cell_type": "code",
   "execution_count": 79,
   "outputs": [
    {
     "data": {
      "text/plain": "array([[0.10531495, 0.        , 0.        , 0.        , 0.        ],\n       [0.        , 0.04250113, 0.        , 0.        , 0.        ],\n       [0.        , 0.        , 0.97618766, 0.        , 0.        ],\n       [0.        , 0.        , 0.        , 0.50458203, 0.        ],\n       [0.        , 0.        , 0.        , 0.        , 0.35682202]])"
     },
     "execution_count": 79,
     "metadata": {},
     "output_type": "execute_result"
    }
   ],
   "source": [
    "X_sig = np.diag(np.random.rand(5))\n",
    "X_sig"
   ],
   "metadata": {
    "collapsed": false,
    "pycharm": {
     "name": "#%%\n"
    }
   }
  },
  {
   "cell_type": "code",
   "execution_count": 95,
   "outputs": [],
   "source": [
    "np.random.seed(123)\n",
    "\n",
    "N = 10000 # number of units\n",
    "K =  5 # number of covariates\n",
    "\n",
    "# Generate random Xs\n",
    "X_mu = np.zeros(5) # Means of Xs\n",
    "# Random covariance matrix of Xs\n",
    "X_sig = np.diag(np.random.rand(5))\n",
    "# X_sig = np.random.rand(5, 5)\n",
    "# X_sig = np.dot(X_sig, X_sig.transpose())\n",
    "X = st.multivariate_normal(X_mu, X_sig).rvs(N)\n",
    "\n",
    "# Effect of Xs on outcome\n",
    "X_beta = np.random.uniform(0, 5, K)\n",
    "# Effect of treatment on outcomes\n",
    "D_beta = np.array([0, 1, 2])\n",
    "# Effect of treatment on outcome conditional on X1\n",
    "DX1_beta = np.array([0, 0, 3])\n",
    "\n",
    "# Generate 3 treatments (randomly assigned, equal probability)\n",
    "D1 = np.random.uniform(0, 1, N)\n",
    "D = np.where(D1 <= 1/3, 0, np.where(D1 > 2/3,2, 1))\n",
    "D_dum = pd.get_dummies(D)\n",
    "\n",
    "# Generate Y (based on X, D, and random noise)\n",
    "Y_sig = 1 # Variance of random outcome noise\n",
    "Y = X @ X_beta + (D_dum @ D_beta) + X[:, 1] * (D_dum @ DX1_beta) + np.random.normal(0, Y_sig, N)\n",
    "Y = Y.to_numpy()"
   ],
   "metadata": {
    "collapsed": false,
    "pycharm": {
     "name": "#%%\n"
    }
   }
  },
  {
   "cell_type": "code",
   "execution_count": 96,
   "outputs": [],
   "source": [
    "# Split to training and validation\n",
    "train_prop = .5\n",
    "train_N = np.ceil(train_prop * N)\n",
    "ind = np.array(range(N))\n",
    "train_ind = np.random.choice(N, int(train_N), replace = False)\n",
    "val_ind = ind[~np.isin(ind, train_ind)]\n",
    "\n",
    "Xtrain, Dtrain, Ytrain = X[train_ind], D[train_ind], Y[train_ind]\n",
    "Xval, Dval, Yval = X[val_ind], D[val_ind], Y[val_ind]\n",
    "\n",
    "del X, D, Y"
   ],
   "metadata": {
    "collapsed": false,
    "pycharm": {
     "name": "#%%\n"
    }
   }
  },
  {
   "cell_type": "code",
   "execution_count": 97,
   "outputs": [],
   "source": [
    "# Simple classifier and regressor for propensity, outcome, and cate\n",
    "reg_t = RandomForestClassifier()\n",
    "reg_y = GradientBoostingRegressor()\n",
    "reg_cate = GradientBoostingRegressor()"
   ],
   "metadata": {
    "collapsed": false,
    "pycharm": {
     "name": "#%%\n"
    }
   }
  },
  {
   "cell_type": "code",
   "execution_count": 216,
   "outputs": [],
   "source": [
    "import numpy as np\n",
    "import pandas as pd\n",
    "from statsmodels.api import OLS\n",
    "from statsmodels.tools import add_constant\n",
    "from sklearn.model_selection import cross_val_predict, StratifiedKFold\n",
    "\n",
    "class DRtester:\n",
    "\n",
    "    def __init__(\n",
    "        self,\n",
    "        reg_outcome,\n",
    "        reg_t,\n",
    "        n_splits=5\n",
    "    ):\n",
    "        self.reg_outcome = reg_outcome\n",
    "        self.reg_t = reg_t\n",
    "        self.n_splits = n_splits\n",
    "\n",
    "    # Fits nusisance and CATE\n",
    "    def fit_nuisance(\n",
    "        self,\n",
    "        Xval,\n",
    "        Dval,\n",
    "        yval,\n",
    "        Xtrain = None,\n",
    "        Dtrain = None,\n",
    "        ytrain = None,\n",
    "    ):\n",
    "\n",
    "        self.tmts = np.sort(np.unique(Dval))\n",
    "\n",
    "        # Number of treatments (excluding control)\n",
    "        self.n_treat = len(self.tmts) - 1\n",
    "\n",
    "        self.fit_on_train = (Xtrain is not None) and (Dtrain is not None) and (ytrain is not None)\n",
    "\n",
    "        if self.fit_on_train:\n",
    "            # Get DR outcomes in training sample\n",
    "            reg_preds_train, prop_preds_train = self.fit_nuisance_cv(Xtrain, Dtrain, ytrain)\n",
    "            self.dr_train = self.calculate_dr_outcomes(Dtrain, ytrain, reg_preds_train, prop_preds_train)\n",
    "\n",
    "            # Get DR outcomes in validation sample\n",
    "            reg_preds_val, prop_preds_val = self.fit_nuisance_train(Xtrain, Dtrain, ytrain, Xval)\n",
    "            self.dr_val = self.calculate_dr_outcomes(Dval, yval, reg_preds_val, prop_preds_val)\n",
    "\n",
    "            # Get CATE preds in validation and training\n",
    "            # self.cate_preds_train = self.fit_cate_cv(reg_cate, Ztrain, Dtrain, self.dr_train)\n",
    "            # self.cate_preds_val = self.fit_cate_train(reg_cate, Ztrain, Zval)\n",
    "\n",
    "        else:\n",
    "            reg_preds_val, prop_preds_val = self.fit_nuisance_cv(Xval, Dval, yval)\n",
    "            self.dr_val = self.calculate_dr_outcomes(Dval, yval, reg_preds_val, prop_preds_val)\n",
    "            # self.cate_preds_val = self.fit_cate_cv(reg_cate, Zval, Dval, self.dr_val)\n",
    "\n",
    "        return self\n",
    "\n",
    "    def fit_cate(self, reg_cate, Zval, Ztrain = None):\n",
    "        if Ztrain is not None:\n",
    "            self.cate_preds_train = self.fit_cate_cv(reg_cate, Ztrain, Dtrain, self.dr_train)\n",
    "            self.cate_preds_val = self.fit_cate_train(reg_cate, Ztrain, Zval)\n",
    "        else:\n",
    "            self.cate_preds_val = self.fit_cate_cv(reg_cate, Zval, Dval, self.dr_val)\n",
    "\n",
    "        return self\n",
    "\n",
    "\n",
    "    def evaluate_all(self, n_groups = 4):\n",
    "\n",
    "        self.evaluate_blp()\n",
    "        self.evaluate_cal(n_groups)\n",
    "\n",
    "        self.df_res = self.blp_res\n",
    "        self.df_res['cal_r_squared'] = np.around(self.cal_r_squared, 3)\n",
    "\n",
    "        return self\n",
    "\n",
    "    def evaluate_cal(self, n_groups = 4):\n",
    "\n",
    "\n",
    "        # self.probs = np.zeros((n_groups, self.n_treat))\n",
    "        # self.g_cate = np.zeros((n_groups, self.n_treat))\n",
    "        # self.se_g_cate = np.zeros((n_groups, self.n_treat))\n",
    "        # self.gate = np.zeros((n_groups, self.n_treat))\n",
    "        # self.se_gate = np.zeros((n_groups, self.n_treat))\n",
    "        self.cal_r_squared = np.zeros(self.n_treat)\n",
    "        self.ate = np.zeros(self.n_treat)\n",
    "        self.df_plot = pd.DataFrame()\n",
    "        for k in range(self.n_treat):\n",
    "\n",
    "            cuts = np.quantile(self.cate_preds_train[:, k], np.linspace(0, 1, n_groups + 1))\n",
    "            probs = np.zeros(n_groups)\n",
    "            g_cate = np.zeros(n_groups)\n",
    "            se_g_cate = np.zeros(n_groups)\n",
    "            gate = np.zeros(n_groups)\n",
    "            se_gate = np.zeros(n_groups)\n",
    "            for i in range(n_groups):\n",
    "                # Assign units in validation set to groups\n",
    "                ind = (self.cate_preds_val[:, k] >= cuts[i]) & (self.cate_preds_val[:, k] <= cuts[i + 1])\n",
    "                # Proportion of validations set in group\n",
    "                probs[i] = np.mean(ind)\n",
    "                # Group average treatment effect (GATE) -- average of DR outcomes in group\n",
    "                gate[i] = np.mean(self.dr_val[ind, k])\n",
    "                se_gate[i] = np.std(self.dr_val[ind, k]) / np.sqrt(np.sum(ind))\n",
    "                # Average of CATE predictions in group\n",
    "                g_cate[i] = np.mean(self.cate_preds_val[ind, k])\n",
    "                se_g_cate[i] = np.std(self.cate_preds_val[ind, k]) / np.sqrt(np.sum(ind))\n",
    "\n",
    "            # Calculate overall ATE\n",
    "            self.ate[k] = np.mean(self.dr_val[:, k])\n",
    "\n",
    "            # Calculate group calibration score\n",
    "            cal_score_g = np.sum(abs(gate - g_cate) * probs)\n",
    "            # Calculate overall calibration score\n",
    "            cal_score_o = np.sum(abs(gate - self.ate[k]) * probs)\n",
    "            # Calculate R-square calibration score\n",
    "            self.cal_r_squared[k] = 1 - (cal_score_g / cal_score_o)\n",
    "\n",
    "            df_plot1 = pd.DataFrame({'ind': np.array(range(n_groups)),\n",
    "                                     'gate': gate, 'se_gate': se_gate,\n",
    "                                    'g_cate': g_cate, 'se_g_cate': se_g_cate})\n",
    "            df_plot1['tmt'] = self.tmts[k + 1]\n",
    "            self.df_plot = pd.concat((self.df_plot, df_plot1))\n",
    "\n",
    "        return self\n",
    "\n",
    "    def plot_cal(self, tmt):\n",
    "        df = self.df_plot\n",
    "        df = df[df.tmt == tmt].copy()\n",
    "        rsq = round(self.cal_r_squared[np.where(self.tmts == tmt)[0][0] - 1], 3)\n",
    "        df['95_err'] = 1.96 * df['se_gate']\n",
    "        fig = df.plot(kind='scatter',\n",
    "            x='g_cate',\n",
    "            y='gate',\n",
    "            yerr='95_err',\n",
    "            xlabel = 'Group Mean CATE',\n",
    "            ylabel = 'GATE',\n",
    "            title=f\"Calibration R^2 = {rsq}\")\n",
    "\n",
    "        return fig\n",
    "\n",
    "    def evaluate_blp(self):\n",
    "        if self.n_treat == 1:  # binary treatment\n",
    "            reg = OLS(self.dr_val, add_constant(self.cate_preds_val)).fit()\n",
    "            params = [reg.params[1]]\n",
    "            errs = [reg.bse[1]]\n",
    "            pvals = [reg.pvalues[1]]\n",
    "        else:  # categorical treatment\n",
    "            params = []\n",
    "            errs = []\n",
    "            pvals = []\n",
    "            for k in range(self.n_treat):  # run a separate regression for each\n",
    "                reg = OLS(self.dr_val[:, k], add_constant(self.cate_preds_val[:, k])).fit(cov_type = 'HC1')\n",
    "                params.append(reg.params[1])\n",
    "                errs.append(reg.bse[1])\n",
    "                pvals.append(reg.pvalues[1])\n",
    "\n",
    "        self.blp_res = pd.DataFrame({'blp_est': params, 'blp_se': errs, 'blp_pval': pvals}, index = self.tmts[1:])\n",
    "        self.blp_res =  self.blp_res.round({'blp_est': 3, 'blp_se':3, 'blp_pval': 3})\n",
    "        # ['blp_pval'] = round(self.blp_res['blp_pval'], 3)\n",
    "\n",
    "        return self\n",
    "\n",
    "    # Fits nuisance in train, predicts in validation\n",
    "    def fit_nuisance_train(self, Xtrain, Dtrain, ytrain, Xval):\n",
    "\n",
    "        # Fit propensity in treatment\n",
    "        reg_t_fitted = self.reg_t.fit(Xtrain, Dtrain)\n",
    "        # Predict propensity scores\n",
    "        if self.n_treat == 1:\n",
    "            prop_preds = reg_t_fitted.predict(Xval)\n",
    "        else:\n",
    "            prop_preds = reg_t_fitted.predict_proba(Xval)\n",
    "\n",
    "        # Possible treatments (need to allow more than 2)\n",
    "        tmts = np.sort(np.unique(Dtrain))\n",
    "        n = Xval.shape[0]\n",
    "        k = len(tmts)\n",
    "        reg_preds = np.zeros((n, k))\n",
    "        for i in range(k):\n",
    "            reg_outcome_fitted = self.reg_outcome.fit(Xtrain[Dtrain == tmts[i]], ytrain[Dtrain == tmts[i]])\n",
    "            reg_preds[:, i] = reg_outcome_fitted.predict(Xval)\n",
    "\n",
    "        return reg_preds, prop_preds\n",
    "\n",
    "    # CV nuisance predictions\n",
    "    def fit_nuisance_cv(self, X, D, y, shuffle=True, random_state=123):\n",
    "\n",
    "        cv = StratifiedKFold(n_splits=self.n_splits, shuffle=shuffle, random_state=random_state)\n",
    "        splits = list(cv.split(X, D))\n",
    "\n",
    "\n",
    "        if self.n_treat == 1:\n",
    "            prop_preds = cross_val_predict(reg_t, X, D, cv=splits)\n",
    "        else:\n",
    "            prop_preds = cross_val_predict(reg_t, X, D, cv=splits, method='predict_proba')\n",
    "\n",
    "\n",
    "        # Predict outcomes\n",
    "        # T-learner logic\n",
    "        tmts = np.sort(np.unique(D))\n",
    "        N = X.shape[0]\n",
    "        K = len(tmts)\n",
    "        reg_preds = np.zeros((N, K))\n",
    "        for k in range(K):\n",
    "            for train, test in splits:\n",
    "                reg_outcome_fitted = self.reg_outcome.fit(X[train][D[train] == tmts[k]], y[train][D[train] == tmts[k]])\n",
    "                reg_preds[test, k] = reg_outcome_fitted.predict(X[test])\n",
    "\n",
    "        return reg_preds, prop_preds\n",
    "\n",
    "    # Calculates DR outcomes\n",
    "    def calculate_dr_outcomes(\n",
    "        self,\n",
    "        D: np.array,\n",
    "        y: np.array,\n",
    "        reg_preds,\n",
    "        prop_preds\n",
    "    ) -> np.array:\n",
    "\n",
    "        if self.n_treat == 1:  # if treatment is binary\n",
    "            reg_preds_chosen = np.sum(reg_preds * np.column_stack((D, 1 - D)), axis=1)\n",
    "\n",
    "            # Calculate doubly-robust outcome\n",
    "            dr = reg_preds[:, 1] - reg_preds[:, 0]\n",
    "            # Reiz representation, clip denominator at 0.01\n",
    "            reisz = (D - prop_preds) / np.clip(prop_preds * (1 - prop_preds), .01, np.inf)\n",
    "            dr += (y - reg_preds_chosen) * reisz\n",
    "        else:  # if treatment is categorical\n",
    "            # treat each treatment as a separate regression\n",
    "            # here, prop_preds should be a matrix\n",
    "            # with rows corresponding to units and columns corresponding to treatment statuses\n",
    "            dr_vec = []\n",
    "            d0_mask = np.where(D == 0, 1, 0)\n",
    "            y_dr_0 = reg_preds[:, 0] + (d0_mask / np.clip(prop_preds[:, 0], .01, np.inf)) * (y - reg_preds[:, 0])\n",
    "            for k in np.sort(np.unique(D)):  # pick a treatment status\n",
    "                if k > 0:  # make sure it is not control\n",
    "                    dk_mask = np.where(D == k, 1, 0)\n",
    "                    y_dr_k = reg_preds[:, k] + (dk_mask / np.clip(prop_preds[:, k], .01, np.inf)) * (y - reg_preds[:, k])\n",
    "                    dr_k = y_dr_k - y_dr_0  # this is an n x 1 vector\n",
    "                    dr_vec.append(dr_k)\n",
    "            dr = np.column_stack(dr_vec)  # this is an n x k matrix\n",
    "\n",
    "        return dr\n",
    "\n",
    "    def cate_fit_predict(self, reg_cate, train, test, dr):\n",
    "\n",
    "        if np.ndim(test) == 1:\n",
    "            test = test.reshape(-1, 1)\n",
    "\n",
    "        if np.ndim(train) == 1:\n",
    "            train = train.reshape(-1, 1)\n",
    "\n",
    "        if self.n_treat == 1:\n",
    "            reg_cate_fitted = reg_cate.fit(train, dr)\n",
    "            cate_preds = reg_cate_fitted.predict(test)\n",
    "        else:\n",
    "            cate_preds = []\n",
    "            for k in range(self.n_treat):  # fit a separate cate model for each treatment status?\n",
    "                reg_cate_fitted = reg_cate.fit(train, dr[:, k])\n",
    "                cate_preds.append(reg_cate_fitted.predict(test))\n",
    "\n",
    "            cate_preds = np.column_stack(cate_preds)\n",
    "\n",
    "        return cate_preds\n",
    "\n",
    "    # Fits CATE in training, predicts in validation\n",
    "    def fit_cate_train(self, reg_cate, Ztrain, Zval):\n",
    "        return self.cate_fit_predict(reg_cate, Ztrain, Zval, self.dr_train)\n",
    "\n",
    "    # CV prediction of CATEs\n",
    "    def fit_cate_cv(self, reg_cate, Z, D, dr, shuffle=True, random_state=712):\n",
    "        cv = StratifiedKFold(n_splits=self.n_splits, shuffle=shuffle, random_state=random_state)\n",
    "        splits = list(cv.split(Z, D))\n",
    "\n",
    "        if np.ndim(Z) == 1:\n",
    "            Z = Z.reshape(-1, 1)\n",
    "\n",
    "        N = Z.shape[0]\n",
    "        tmts = np.sort(np.unique(D))\n",
    "        K = len(tmts)\n",
    "        cate_preds = np.zeros((N, K - 1))\n",
    "\n",
    "        for k in range(K - 1):\n",
    "            cate_preds[:, k] = cross_val_predict(reg_cate, Z, dr[:, k], cv = splits)\n",
    "\n",
    "        return cate_preds\n"
   ],
   "metadata": {
    "collapsed": false,
    "pycharm": {
     "name": "#%%\n"
    }
   }
  },
  {
   "cell_type": "code",
   "execution_count": 217,
   "outputs": [],
   "source": [
    "my_dr_tester = DRtester(reg_y, reg_t).fit_nuisance(Xval, Dval, Yval, Xtrain, Dtrain, Ytrain)"
   ],
   "metadata": {
    "collapsed": false,
    "pycharm": {
     "name": "#%%\n"
    }
   }
  },
  {
   "cell_type": "code",
   "execution_count": 218,
   "outputs": [],
   "source": [
    "Ztrain = Xtrain[:, 1]\n",
    "Zval = Xval[:, 1]\n",
    "my_dr_tester = my_dr_tester.fit_cate(reg_cate, Zval, Ztrain)"
   ],
   "metadata": {
    "collapsed": false,
    "pycharm": {
     "name": "#%%\n"
    }
   }
  },
  {
   "cell_type": "code",
   "execution_count": 219,
   "outputs": [],
   "source": [
    "my_dr_tester = my_dr_tester.evaluate_all()"
   ],
   "metadata": {
    "collapsed": false,
    "pycharm": {
     "name": "#%%\n"
    }
   }
  },
  {
   "cell_type": "code",
   "execution_count": 220,
   "outputs": [
    {
     "data": {
      "text/plain": "   blp_est  blp_se  blp_pval  cal_r_squared\n1   -0.064   0.072     0.378         -0.992\n2    0.880   0.057     0.000          0.927",
      "text/html": "<div>\n<style scoped>\n    .dataframe tbody tr th:only-of-type {\n        vertical-align: middle;\n    }\n\n    .dataframe tbody tr th {\n        vertical-align: top;\n    }\n\n    .dataframe thead th {\n        text-align: right;\n    }\n</style>\n<table border=\"1\" class=\"dataframe\">\n  <thead>\n    <tr style=\"text-align: right;\">\n      <th></th>\n      <th>blp_est</th>\n      <th>blp_se</th>\n      <th>blp_pval</th>\n      <th>cal_r_squared</th>\n    </tr>\n  </thead>\n  <tbody>\n    <tr>\n      <th>1</th>\n      <td>-0.064</td>\n      <td>0.072</td>\n      <td>0.378</td>\n      <td>-0.992</td>\n    </tr>\n    <tr>\n      <th>2</th>\n      <td>0.880</td>\n      <td>0.057</td>\n      <td>0.000</td>\n      <td>0.927</td>\n    </tr>\n  </tbody>\n</table>\n</div>"
     },
     "execution_count": 220,
     "metadata": {},
     "output_type": "execute_result"
    }
   ],
   "source": [
    "my_dr_tester.df_res"
   ],
   "metadata": {
    "collapsed": false,
    "pycharm": {
     "name": "#%%\n"
    }
   }
  },
  {
   "cell_type": "code",
   "execution_count": null,
   "outputs": [],
   "source": [],
   "metadata": {
    "collapsed": false,
    "pycharm": {
     "name": "#%%\n"
    }
   }
  },
  {
   "cell_type": "code",
   "execution_count": 166,
   "outputs": [],
   "source": [
    "my_dr_tester = DRtester(reg_y, reg_t)\n",
    "Ztrain = Xtrain[:, 1]\n",
    "Zval = Xval[:, 1]\n",
    "my_dr_tester = my_dr_tester.fit(reg_cate, Xval, Dval, Yval, Zval, Xtrain, Dtrain, Ytrain, Ztrain)\n",
    "my_dr_tester = my_dr_tester.evaluate_cal(4)"
   ],
   "metadata": {
    "collapsed": false,
    "pycharm": {
     "name": "#%%\n"
    }
   }
  },
  {
   "cell_type": "code",
   "execution_count": 210,
   "outputs": [],
   "source": [
    "df = my_dr_tester.df_plot"
   ],
   "metadata": {
    "collapsed": false,
    "pycharm": {
     "name": "#%%\n"
    }
   }
  },
  {
   "cell_type": "code",
   "execution_count": 170,
   "outputs": [
    {
     "data": {
      "text/plain": "<Axes: title={'center': 'Calibration R^2 = -1.647'}, xlabel='Group Mean CATE', ylabel='GATE'>"
     },
     "execution_count": 170,
     "metadata": {},
     "output_type": "execute_result"
    },
    {
     "data": {
      "text/plain": "<Figure size 640x480 with 1 Axes>",
      "image/png": "[encoded data removed]"
     },
     "metadata": {},
     "output_type": "display_data"
    }
   ],
   "source": [
    "my_dr_tester.plot_cal(1)"
   ],
   "metadata": {
    "collapsed": false,
    "pycharm": {
     "name": "#%%\n"
    }
   }
  },
  {
   "cell_type": "code",
   "execution_count": null,
   "outputs": [],
   "source": [],
   "metadata": {
    "collapsed": false,
    "pycharm": {
     "name": "#%%\n"
    }
   }
  },
  {
   "cell_type": "code",
   "execution_count": null,
   "outputs": [],
   "source": [],
   "metadata": {
    "collapsed": false,
    "pycharm": {
     "name": "#%%\n"
    }
   }
  },
  {
   "cell_type": "code",
   "execution_count": null,
   "outputs": [],
   "source": [],
   "metadata": {
    "collapsed": false,
    "pycharm": {
     "name": "#%%\n"
    }
   }
  },
  {
   "cell_type": "code",
   "execution_count": null,
   "outputs": [],
   "source": [],
   "metadata": {
    "collapsed": false,
    "pycharm": {
     "name": "#%%\n"
    }
   }
  },
  {
   "cell_type": "code",
   "execution_count": 172,
   "outputs": [],
   "source": [
    "# Fit on train method\n",
    "my_dr_tester = DRtester(reg_y, reg_t)\n",
    "\n",
    "Ztrain = Xtrain[:, 1]\n",
    "Zval = Xval[:, 1]\n",
    "my_dr_tester = my_dr_tester.fit(reg_cate, Xval, Dval, Yval, Zval, Xtrain, Dtrain, Ytrain, Ztrain).evaluate_blp()"
   ],
   "metadata": {
    "collapsed": false,
    "pycharm": {
     "name": "#%%\n"
    }
   }
  },
  {
   "cell_type": "code",
   "execution_count": 65,
   "outputs": [
    {
     "name": "stdout",
     "output_type": "stream",
     "text": [
      "Testing DR outcomes performance\n",
      "Treatment 1: True = 1 , Estimate =  1.008\n",
      "Treatment 2: True = 2 , Estimate =  1.98\n",
      "Treatment 1 Heterogeneity: True = 0 , Estimate = -0.05\n",
      "Treatment 2 Heterogeneity: True = 3 , Estimate = 2.899 \n",
      "\n",
      "   Estimate  Std. Err        p-Value\n",
      "0 -0.267141  0.179176   1.359756e-01\n",
      "1  0.917155  0.040256  6.737735e-115\n"
     ]
    }
   ],
   "source": [
    "# # Test that DR outcomes is working (get right ATE)\n",
    "# print('Testing DR outcomes performance')\n",
    "# print('Treatment 1: True =', D_beta[1], ', Estimate = ', round(np.mean(my_dr_tester.dr_val[:, 0]), 3))\n",
    "# print('Treatment 2: True =', D_beta[2], ', Estimate = ', round(np.mean(my_dr_tester.dr_val[:, 1]), 3))\n",
    "#\n",
    "# # Test DR outcomes are working (correct heterogeneity)\n",
    "# het_est1 = round(OLS(my_dr_tester.dr_val[:, 0], add_constant(Xval[:, 1])).fit().params[1], 3)\n",
    "# print('Treatment 1 Heterogeneity: True =', DX1_beta[1], ', Estimate =', het_est1)\n",
    "# het_est2 = round(OLS(my_dr_tester.dr_val[:, 1], add_constant(Xval[:, 1])).fit().params[1], 3)\n",
    "# print('Treatment 2 Heterogeneity: True =', DX1_beta[2], ', Estimate =', het_est2, '\\n')\n",
    "#\n",
    "# print(my_dr_tester.blp_res)\n",
    "#\n",
    "# # print(round(O)\n",
    "# # print(OLS(my_dr_tester.dr_val[:, 1], add_constant(Xval[:, 1])).fit().params[1])"
   ],
   "metadata": {
    "collapsed": false,
    "pycharm": {
     "name": "#%%\n"
    }
   }
  },
  {
   "cell_type": "code",
   "execution_count": 174,
   "outputs": [],
   "source": [
    "# Fit on train method\n",
    "my_dr_tester = DRtester(reg_y, reg_t)\n",
    "\n",
    "Ztrain = Xtrain[:, 1]\n",
    "Zval = Xval[:, 1]\n",
    "my_dr_tester = my_dr_tester.fit(reg_cate, Xval, Dval, Yval, Zval, Xtrain, Dtrain, Ytrain, Ztrain).evaluate_blp()"
   ],
   "metadata": {
    "collapsed": false,
    "pycharm": {
     "name": "#%%\n"
    }
   }
  },
  {
   "cell_type": "code",
   "execution_count": 175,
   "outputs": [
    {
     "name": "stdout",
     "output_type": "stream",
     "text": [
      "True\n",
      "True\n",
      "True\n"
     ]
    }
   ],
   "source": [
    "# Test that the ATEs are correct\n",
    "tol = .2\n",
    "print((abs(D_beta[1] - np.mean(my_dr_tester.dr_val[:, 0])) <= tol) & (abs(D_beta[2] - np.mean(my_dr_tester.dr_val[:, 1])) <= tol))\n",
    "\n",
    "# Test that there is no heterogenity in the first treatment\n",
    "print(my_dr_tester.blp_res['p-Value'][0] >= .05)\n",
    "\n",
    "# Test that there is significant heterogeneity in second treatment\n",
    "print(my_dr_tester.blp_res['p-Value'][1] < .05)"
   ],
   "metadata": {
    "collapsed": false,
    "pycharm": {
     "name": "#%%\n"
    }
   }
  },
  {
   "cell_type": "code",
   "execution_count": 176,
   "outputs": [
    {
     "name": "stdout",
     "output_type": "stream",
     "text": [
      "True\n"
     ]
    }
   ],
   "source": [
    "# Make sure when using the wrong covariate for the CATE that it is not significant\n",
    "Ztrain = Xtrain[:, 2]\n",
    "Zval = Xval[:, 2]\n",
    "my_dr_tester = my_dr_tester.fit(reg_cate, Xval, Dval, Yval, Zval, Xtrain, Dtrain, Ytrain, Ztrain).evaluate_blp()\n",
    "\n",
    "print((my_dr_tester.blp_res['p-Value'][0] >= .05) & (my_dr_tester.blp_res['p-Value'][1] >= .05))"
   ],
   "metadata": {
    "collapsed": false,
    "pycharm": {
     "name": "#%%\n"
    }
   }
  },
  {
   "cell_type": "code",
   "execution_count": 92,
   "outputs": [
    {
     "data": {
      "text/plain": "   Estimate  Std. Err   p-Value\n0  0.336239  0.136832  0.013998\n1 -0.047671  0.111882  0.670048",
      "text/html": "<div>\n<style scoped>\n    .dataframe tbody tr th:only-of-type {\n        vertical-align: middle;\n    }\n\n    .dataframe tbody tr th {\n        vertical-align: top;\n    }\n\n    .dataframe thead th {\n        text-align: right;\n    }\n</style>\n<table border=\"1\" class=\"dataframe\">\n  <thead>\n    <tr style=\"text-align: right;\">\n      <th></th>\n      <th>Estimate</th>\n      <th>Std. Err</th>\n      <th>p-Value</th>\n    </tr>\n  </thead>\n  <tbody>\n    <tr>\n      <th>0</th>\n      <td>0.336239</td>\n      <td>0.136832</td>\n      <td>0.013998</td>\n    </tr>\n    <tr>\n      <th>1</th>\n      <td>-0.047671</td>\n      <td>0.111882</td>\n      <td>0.670048</td>\n    </tr>\n  </tbody>\n</table>\n</div>"
     },
     "execution_count": 92,
     "metadata": {},
     "output_type": "execute_result"
    }
   ],
   "source": [
    "np."
   ],
   "metadata": {
    "collapsed": false,
    "pycharm": {
     "name": "#%%\n"
    }
   }
  },
  {
   "cell_type": "code",
   "execution_count": 74,
   "outputs": [
    {
     "data": {
      "text/plain": "True"
     },
     "execution_count": 74,
     "metadata": {},
     "output_type": "execute_result"
    }
   ],
   "source": [],
   "metadata": {
    "collapsed": false,
    "pycharm": {
     "name": "#%%\n"
    }
   }
  },
  {
   "cell_type": "code",
   "execution_count": 89,
   "outputs": [
    {
     "data": {
      "text/plain": "False"
     },
     "execution_count": 89,
     "metadata": {},
     "output_type": "execute_result"
    }
   ],
   "source": [],
   "metadata": {
    "collapsed": false,
    "pycharm": {
     "name": "#%%\n"
    }
   }
  },
  {
   "cell_type": "code",
   "execution_count": 88,
   "outputs": [
    {
     "data": {
      "text/plain": "True"
     },
     "execution_count": 88,
     "metadata": {},
     "output_type": "execute_result"
    }
   ],
   "source": [],
   "metadata": {
    "collapsed": false,
    "pycharm": {
     "name": "#%%\n"
    }
   }
  },
  {
   "cell_type": "code",
   "execution_count": 117,
   "outputs": [],
   "source": [
    "# Fit on validation method\n",
    "Ztrain = Xtrain[:, 1]\n",
    "Zval = Xval[:, 1]\n",
    "my_dr_tester = my_dr_tester.fit(reg_cate, Xval, Dval, Yval, Zval).evaluate_blp()"
   ],
   "metadata": {
    "collapsed": false,
    "pycharm": {
     "name": "#%%\n"
    }
   }
  },
  {
   "cell_type": "code",
   "execution_count": 118,
   "outputs": [],
   "source": [
    "tol = .2"
   ],
   "metadata": {
    "collapsed": false,
    "pycharm": {
     "name": "#%%\n"
    }
   }
  },
  {
   "cell_type": "code",
   "execution_count": 119,
   "outputs": [
    {
     "name": "stdout",
     "output_type": "stream",
     "text": [
      "True\n",
      "False\n",
      "True\n"
     ]
    }
   ],
   "source": [
    "# Test that the ATEs are correct\n",
    "print((abs(D_beta[1] - np.mean(my_dr_tester.dr_val[:, 0])) <= tol) & (abs(D_beta[2] - np.mean(my_dr_tester.dr_val[:, 1])) <= tol))\n",
    "\n",
    "# Test that there is no heterogenity in the first treatment\n",
    "print(my_dr_tester.blp_res['p-Value'][0] >= .05)\n",
    "\n",
    "# Test that there is significant heterogeneity in second treatment\n",
    "print(my_dr_tester.blp_res['p-Value'][1] < .05)\n",
    "\n",
    "# Make sure when using the wrong covariate for the CATE that it is not significant\n",
    "# Ztrain = Xtrain[:, 2]\n",
    "# Zval = Xval[:, 2]\n",
    "# my_dr_tester = my_dr_tester.fit(reg_cate, Xval, Dval, Yval, Zval, Xtrain, Dtrain, Ytrain, Ztrain).evaluate_blp()\n",
    "#\n",
    "# print((my_dr_tester.blp_res['p-Value'][0] >= .05) & (my_dr_tester.blp_res['p-Value'][1] >= .05))"
   ],
   "metadata": {
    "collapsed": false,
    "pycharm": {
     "name": "#%%\n"
    }
   }
  },
  {
   "cell_type": "code",
   "execution_count": 121,
   "outputs": [
    {
     "data": {
      "text/plain": "   Estimate  Std. Err       p-Value\n0 -0.300900  0.127902  1.864359e-02\n1  0.828916  0.051007  2.196256e-59",
      "text/html": "<div>\n<style scoped>\n    .dataframe tbody tr th:only-of-type {\n        vertical-align: middle;\n    }\n\n    .dataframe tbody tr th {\n        vertical-align: top;\n    }\n\n    .dataframe thead th {\n        text-align: right;\n    }\n</style>\n<table border=\"1\" class=\"dataframe\">\n  <thead>\n    <tr style=\"text-align: right;\">\n      <th></th>\n      <th>Estimate</th>\n      <th>Std. Err</th>\n      <th>p-Value</th>\n    </tr>\n  </thead>\n  <tbody>\n    <tr>\n      <th>0</th>\n      <td>-0.300900</td>\n      <td>0.127902</td>\n      <td>1.864359e-02</td>\n    </tr>\n    <tr>\n      <th>1</th>\n      <td>0.828916</td>\n      <td>0.051007</td>\n      <td>2.196256e-59</td>\n    </tr>\n  </tbody>\n</table>\n</div>"
     },
     "execution_count": 121,
     "metadata": {},
     "output_type": "execute_result"
    }
   ],
   "source": [
    "my_dr_tester.blp_res"
   ],
   "metadata": {
    "collapsed": false,
    "pycharm": {
     "name": "#%%\n"
    }
   }
  },
  {
   "cell_type": "code",
   "execution_count": 109,
   "outputs": [
    {
     "data": {
      "text/plain": "True"
     },
     "execution_count": 109,
     "metadata": {},
     "output_type": "execute_result"
    }
   ],
   "source": [
    "(abs(D_beta[1] - np.mean(my_dr_tester.dr_val[:, 0])) <= .05)"
   ],
   "metadata": {
    "collapsed": false,
    "pycharm": {
     "name": "#%%\n"
    }
   }
  },
  {
   "cell_type": "code",
   "execution_count": 115,
   "outputs": [
    {
     "data": {
      "text/plain": "0.0868759675127867"
     },
     "execution_count": 115,
     "metadata": {},
     "output_type": "execute_result"
    }
   ],
   "source": [
    "np.std(my_dr_tester.dr_val[:, 1]) / np.sqrt(N) * 1.96"
   ],
   "metadata": {
    "collapsed": false,
    "pycharm": {
     "name": "#%%\n"
    }
   }
  },
  {
   "cell_type": "code",
   "execution_count": 110,
   "outputs": [
    {
     "data": {
      "text/plain": "False"
     },
     "execution_count": 110,
     "metadata": {},
     "output_type": "execute_result"
    }
   ],
   "source": [
    "(abs(D_beta[2] - np.mean(my_dr_tester.dr_val[:, 1])) <= .05)"
   ],
   "metadata": {
    "collapsed": false,
    "pycharm": {
     "name": "#%%\n"
    }
   }
  },
  {
   "cell_type": "code",
   "execution_count": 111,
   "outputs": [
    {
     "data": {
      "text/plain": "1.8771407030589031"
     },
     "execution_count": 111,
     "metadata": {},
     "output_type": "execute_result"
    }
   ],
   "source": [
    "np.mean(my_dr_tester.dr_val[:, 1])"
   ],
   "metadata": {
    "collapsed": false,
    "pycharm": {
     "name": "#%%\n"
    }
   }
  },
  {
   "cell_type": "code",
   "execution_count": null,
   "outputs": [],
   "source": [],
   "metadata": {
    "collapsed": false,
    "pycharm": {
     "name": "#%%\n"
    }
   }
  },
  {
   "cell_type": "code",
   "execution_count": null,
   "outputs": [],
   "source": [],
   "metadata": {
    "collapsed": false,
    "pycharm": {
     "name": "#%%\n"
    }
   }
  },
  {
   "cell_type": "code",
   "execution_count": null,
   "outputs": [],
   "source": [],
   "metadata": {
    "collapsed": false,
    "pycharm": {
     "name": "#%%\n"
    }
   }
  },
  {
   "cell_type": "code",
   "execution_count": 54,
   "outputs": [
    {
     "name": "stdout",
     "output_type": "stream",
     "text": [
      "Testing DR outcomes performance\n",
      "Treatment 1: True = 1 , Estimate =  1.064\n",
      "Treatment 2: True = 2 , Estimate =  2.067\n",
      "Treatment 1 Heterogeneity: True = 0 , Estimate = -0.132\n",
      "Treatment 2 Heterogeneity: True = 3 , Estimate = 2.931 \n",
      "\n",
      "   Estimate  Std. Err        p-Value\n",
      "0  0.076571  0.018189   2.601755e-05\n",
      "1  0.444957  0.015868  8.035600e-161\n"
     ]
    }
   ],
   "source": [
    "# Test that DR outcomes is working (get right ATE)\n",
    "print('Testing DR outcomes performance')\n",
    "print('Treatment 1: True =', D_beta[1], ', Estimate = ', round(np.mean(my_dr_tester.dr_val[:, 0]), 3))\n",
    "print('Treatment 2: True =', D_beta[2], ', Estimate = ', round(np.mean(my_dr_tester.dr_val[:, 1]), 3))\n",
    "\n",
    "# Test DR outcomes are working (correct heterogeneity)\n",
    "het_est1 = round(OLS(my_dr_tester.dr_val[:, 0], add_constant(Xval[:, 1])).fit().params[1], 3)\n",
    "print('Treatment 1 Heterogeneity: True =', DX1_beta[1], ', Estimate =', het_est1)\n",
    "het_est2 = round(OLS(my_dr_tester.dr_val[:, 1], add_constant(Xval[:, 1])).fit().params[1], 3)\n",
    "print('Treatment 2 Heterogeneity: True =', DX1_beta[2], ', Estimate =', het_est2, '\\n')\n",
    "\n",
    "# Testing BLP (first should be 0)\n",
    "print(my_dr_tester.blp_res)"
   ],
   "metadata": {
    "collapsed": false,
    "pycharm": {
     "name": "#%%\n"
    }
   }
  },
  {
   "cell_type": "code",
   "execution_count": null,
   "outputs": [],
   "source": [],
   "metadata": {
    "collapsed": false,
    "pycharm": {
     "name": "#%%\n"
    }
   }
  }
 ],
 "metadata": {
  "kernelspec": {
   "display_name": "Python 3",
   "language": "python",
   "name": "python3"
  },
  "language_info": {
   "codemirror_mode": {
    "name": "ipython",
    "version": 2
   },
   "file_extension": ".py",
   "mimetype": "text/x-python",
   "name": "python",
   "nbconvert_exporter": "python",
   "pygments_lexer": "ipython2",
   "version": "2.7.6"
  }
 },
 "nbformat": 4,
 "nbformat_minor": 0
}