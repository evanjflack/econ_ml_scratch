{
 "cells": [
  {
   "cell_type": "code",
   "execution_count": 1,
   "metadata": {
    "collapsed": true,
    "pycharm": {
     "name": "#%%\n"
    }
   },
   "outputs": [],
   "source": [
    "import numpy as np\n",
    "import pandas as pd\n",
    "import scipy.stats as st\n",
    "from sklearn.ensemble import RandomForestClassifier, GradientBoostingRegressor\n",
    "\n",
    "from drtester import DRtester"
   ]
  },
  {
   "cell_type": "markdown",
   "source": [
    "### Generate Data"
   ],
   "metadata": {
    "collapsed": false,
    "pycharm": {
     "name": "#%% md\n"
    }
   }
  },
  {
   "cell_type": "code",
   "execution_count": null,
   "outputs": [],
   "source": [
    "def _get_data(num_treatments = 1):\n",
    "    np.random.seed(123)\n",
    "\n",
    "    N = 20000  # number of units\n",
    "    K = 5  # number of covariates\n",
    "\n",
    "    # Generate random Xs\n",
    "    X_mu = np.zeros(5)  # Means of Xs\n",
    "    # Random covariance matrix of Xs\n",
    "    X_sig = np.diag(np.random.rand(5))\n",
    "    X = st.multivariate_normal(X_mu, X_sig).rvs(N)\n",
    "\n",
    "    # Effect of Xs on outcome\n",
    "    X_beta = np.random.uniform(0, 5, K)\n",
    "    # Effect of treatment on outcomes\n",
    "    D_beta = np.arange(num_treatments + 1)\n",
    "    # Effect of treatment on outcome conditional on X1\n",
    "    DX1_beta = np.array([0] * num_treatments + [3])\n",
    "\n",
    "    # Generate treatments based on X and random noise\n",
    "    beta_treat = np.random.uniform(-1, 1, (num_treatments + 1, K))\n",
    "    D1 = np.zeros((N, num_treatments + 1))\n",
    "    for k in range(num_treatments + 1):\n",
    "        D1[:, k] = X @ beta_treat[k, :] + np.random.gumbel(0, 1, N)\n",
    "    D = np.array([np.where(D1[i, :] == np.max(D1[i, :]))[0][0] for i in range(N)])\n",
    "    D_dum = pd.get_dummies(D)\n",
    "\n",
    "    # Generate Y (based on X, D, and random noise)\n",
    "    Y_sig = 1  # Variance of random outcome noise\n",
    "    Y = X @ X_beta + (D_dum @ D_beta) + X[:, 1] * (D_dum @ DX1_beta) + np.random.normal(0, Y_sig, N)\n",
    "    Y = Y.to_numpy()\n",
    "\n",
    "    train_prop = .5\n",
    "    train_N = np.ceil(train_prop * N)\n",
    "    ind = np.array(range(N))\n",
    "    train_ind = np.random.choice(N, int(train_N), replace=False)\n",
    "    val_ind = ind[~np.isin(ind, train_ind)]\n",
    "\n",
    "    Xtrain, Dtrain, Ytrain = X[train_ind], D[train_ind], Y[train_ind]\n",
    "    Xval, Dval, Yval = X[val_ind], D[val_ind], Y[val_ind]\n",
    "\n",
    "    return Xtrain, Dtrain, Ytrain, Xval, Dval, Yval"
   ],
   "metadata": {
    "collapsed": false,
    "pycharm": {
     "name": "#%%\n"
    }
   }
  },
  {
   "cell_type": "markdown",
   "source": [
    "### Validation"
   ],
   "metadata": {
    "collapsed": false,
    "pycharm": {
     "name": "#%% md\n"
    }
   }
  },
  {
   "cell_type": "code",
   "execution_count": 38,
   "outputs": [],
   "source": [
    "# Simple classifier and regressor for propensity, outcome, and cate\n",
    "reg_t = RandomForestClassifier()\n",
    "reg_y = GradientBoostingRegressor()\n",
    "reg_cate = GradientBoostingRegressor()"
   ],
   "metadata": {
    "collapsed": false,
    "pycharm": {
     "name": "#%%\n"
    }
   }
  },
  {
   "cell_type": "code",
   "execution_count": 42,
   "outputs": [
    {
     "name": "stdout",
     "output_type": "stream",
     "text": [
      "   treatment  blp_est  blp_se  blp_pval  qini_coeff  qini_se  qini_pval   \n",
      "0          1    0.045   0.045     0.314       0.045    0.022      0.021  \\\n",
      "1          2    0.567   0.074     0.000       0.390    0.031      0.000   \n",
      "\n",
      "   cal_r_squared  \n",
      "0          0.075  \n",
      "1          0.772  \n",
      "[1.03128815 2.05934105]\n"
     ]
    }
   ],
   "source": [
    "Xtrain, Dtrain, Ytrain, Xval, Dval, Yval = _get_data(2)\n",
    "my_dr_tester = DRtester(reg_y, reg_t).fit_nuisance(Xval, Dval, Yval, Xtrain, Dtrain, Ytrain)\n",
    "Ztrain = Xtrain[:, 1]\n",
    "Zval = Xval[:, 1]\n",
    "my_dr_tester = my_dr_tester.evaluate_all(reg_cate, Zval, Ztrain)\n",
    "\n",
    "print(my_dr_tester.df_res)\n",
    "print(my_dr_tester.ate_val)"
   ],
   "metadata": {
    "collapsed": false,
    "pycharm": {
     "name": "#%%\n"
    }
   }
  },
  {
   "cell_type": "code",
   "execution_count": 43,
   "outputs": [
    {
     "name": "stderr",
     "output_type": "stream",
     "text": [
      "/opt/anaconda3/envs/econ_ml_scratch/lib/python3.9/site-packages/sklearn/ensemble/_gb.py:437: DataConversionWarning: A column-vector y was passed when a 1d array was expected. Please change the shape of y to (n_samples, ), for example using ravel().\n",
      "  y = column_or_1d(y, warn=True)\n"
     ]
    },
    {
     "name": "stdout",
     "output_type": "stream",
     "text": [
      "   treatment  blp_est  blp_se  blp_pval  qini_coeff  qini_se  qini_pval   \n",
      "0          1    0.941   0.026       0.0       0.444    0.014        0.0  \\\n",
      "\n",
      "   cal_r_squared  \n",
      "0          0.945  \n",
      "[1.0192352]\n"
     ]
    }
   ],
   "source": [
    "Xtrain, Dtrain, Ytrain, Xval, Dval, Yval = _get_data(1)\n",
    "my_dr_tester = DRtester(reg_y, reg_t).fit_nuisance(Xval, Dval, Yval, Xtrain, Dtrain, Ytrain)\n",
    "Ztrain = Xtrain[:, 1]\n",
    "Zval = Xval[:, 1]\n",
    "my_dr_tester = my_dr_tester.evaluate_all(reg_cate, Zval, Ztrain)\n",
    "\n",
    "print(my_dr_tester.df_res)\n",
    "print(my_dr_tester.ate_val)"
   ],
   "metadata": {
    "collapsed": false,
    "pycharm": {
     "name": "#%%\n"
    }
   }
  },
  {
   "cell_type": "code",
   "execution_count": 41,
   "outputs": [
    {
     "name": "stdout",
     "output_type": "stream",
     "text": [
      "   treatment  blp_est  blp_se  blp_pval  qini_coeff  qini_se  qini_pval   \n",
      "0          1    0.045   0.045     0.314       0.045    0.022      0.021  \\\n",
      "1          2    0.567   0.074     0.000       0.390    0.031      0.000   \n",
      "\n",
      "   cal_r_squared  \n",
      "0          0.075  \n",
      "1          0.772  \n"
     ]
    }
   ],
   "source": [],
   "metadata": {
    "collapsed": false,
    "pycharm": {
     "name": "#%%\n"
    }
   }
  },
  {
   "cell_type": "code",
   "execution_count": 35,
   "outputs": [
    {
     "name": "stdout",
     "output_type": "stream",
     "text": [
      "[1.03128815 2.05934105]\n"
     ]
    }
   ],
   "source": [],
   "metadata": {
    "collapsed": false,
    "pycharm": {
     "name": "#%%\n"
    }
   }
  },
  {
   "cell_type": "code",
   "execution_count": 27,
   "outputs": [
    {
     "data": {
      "text/plain": "['Dtrain',\n 'Dval',\n '__class__',\n '__delattr__',\n '__dict__',\n '__dir__',\n '__doc__',\n '__eq__',\n '__format__',\n '__ge__',\n '__getattribute__',\n '__gt__',\n '__hash__',\n '__init__',\n '__init_subclass__',\n '__le__',\n '__lt__',\n '__module__',\n '__ne__',\n '__new__',\n '__reduce__',\n '__reduce_ex__',\n '__repr__',\n '__setattr__',\n '__sizeof__',\n '__str__',\n '__subclasshook__',\n '__weakref__',\n 'ate_val',\n 'blp_res',\n 'cal_r_squared',\n 'calc_qini_coeff',\n 'calculate_dr_outcomes',\n 'cate_fit_predict',\n 'cate_preds_train',\n 'cate_preds_val',\n 'df_plot',\n 'df_res',\n 'dr_train',\n 'dr_val',\n 'evaluate_all',\n 'evaluate_blp',\n 'evaluate_cal',\n 'evaluate_qini',\n 'fit_cate',\n 'fit_cate_cv',\n 'fit_cate_train',\n 'fit_nuisance',\n 'fit_nuisance_cv',\n 'fit_nuisance_train',\n 'fit_on_train',\n 'n_splits',\n 'n_treat',\n 'plot_cal',\n 'qini_res',\n 'reg_outcome',\n 'reg_t',\n 'tmts']"
     },
     "execution_count": 27,
     "metadata": {},
     "output_type": "execute_result"
    }
   ],
   "source": [
    "dir(my_dr_tester)"
   ],
   "metadata": {
    "collapsed": false,
    "pycharm": {
     "name": "#%%\n"
    }
   }
  },
  {
   "cell_type": "code",
   "execution_count": 11,
   "outputs": [
    {
     "name": "stdout",
     "output_type": "stream",
     "text": [
      "[0.90622111 1.9303611 ]\n"
     ]
    }
   ],
   "source": [
    "print(my_dr_tester.ate_val)"
   ],
   "metadata": {
    "collapsed": false,
    "pycharm": {
     "name": "#%%\n"
    }
   }
  },
  {
   "cell_type": "code",
   "execution_count": 7,
   "outputs": [
    {
     "name": "stdout",
     "output_type": "stream",
     "text": [
      "   treatment  blp_est  blp_se  blp_pval  qini_coeff  qini_se  qini_pval   \n",
      "0          1    0.090   0.046     0.048       0.019    0.026      0.234  \\\n",
      "1          2    0.654   0.122     0.000       0.461    0.033      0.000   \n",
      "\n",
      "   cal_r_squared  \n",
      "0         -3.106  \n",
      "1          0.942  \n"
     ]
    }
   ],
   "source": [],
   "metadata": {
    "collapsed": false,
    "pycharm": {
     "name": "#%%\n"
    }
   }
  },
  {
   "cell_type": "code",
   "execution_count": 15,
   "outputs": [
    {
     "data": {
      "text/plain": "<Axes: title={'center': 'Treatment = 2, Calibration R^2 = 0.942'}, xlabel='Group Mean CATE', ylabel='GATE'>"
     },
     "execution_count": 15,
     "metadata": {},
     "output_type": "execute_result"
    },
    {
     "data": {
      "text/plain": "<Figure size 640x480 with 1 Axes>",
      "image/png": "[encoded data removed]"
     },
     "metadata": {},
     "output_type": "display_data"
    }
   ],
   "source": [
    "my_dr_tester.plot_cal(2)"
   ],
   "metadata": {
    "collapsed": false,
    "pycharm": {
     "name": "#%%\n"
    }
   }
  },
  {
   "cell_type": "code",
   "execution_count": 10,
   "outputs": [],
   "source": [
    "my_dr_tester = DRtester(reg_y, reg_t).fit_nuisance(Xval, Dval, Yval)\n",
    "\n",
    "Ztrain = Xtrain[:, 1]\n",
    "Zval = Xval[:, 1]\n",
    "my_dr_tester.fit_cate(reg_cate, Zval)"
   ],
   "metadata": {
    "collapsed": false,
    "pycharm": {
     "name": "#%%\n"
    }
   }
  },
  {
   "cell_type": "code",
   "execution_count": 11,
   "outputs": [
    {
     "ename": "Exception",
     "evalue": "Nuisance models fit fit (cv) in validation sample but Ztrain is specified",
     "output_type": "error",
     "traceback": [
      "\u001B[0;31m---------------------------------------------------------------------------\u001B[0m",
      "\u001B[0;31mException\u001B[0m                                 Traceback (most recent call last)",
      "Cell \u001B[0;32mIn[11], line 1\u001B[0m\n\u001B[0;32m----> 1\u001B[0m \u001B[43mmy_dr_tester\u001B[49m\u001B[38;5;241;43m.\u001B[39;49m\u001B[43mfit_cate\u001B[49m\u001B[43m(\u001B[49m\u001B[43mreg_cate\u001B[49m\u001B[43m,\u001B[49m\u001B[43m \u001B[49m\u001B[43mZval\u001B[49m\u001B[43m,\u001B[49m\u001B[43m \u001B[49m\u001B[43mZtrain\u001B[49m\u001B[43m)\u001B[49m\n",
      "File \u001B[0;32m~/stanford/mse328/econ_ml_scratch/drtester.py:133\u001B[0m, in \u001B[0;36mDRtester.fit_cate\u001B[0;34m(self, reg_cate, Zval, Ztrain)\u001B[0m\n\u001B[1;32m    130\u001B[0m     \u001B[38;5;28;01mraise\u001B[39;00m \u001B[38;5;167;01mException\u001B[39;00m(\u001B[38;5;124m\"\u001B[39m\u001B[38;5;124mNuisance models fit on training sample but Ztrain not specified\u001B[39m\u001B[38;5;124m\"\u001B[39m)\n\u001B[1;32m    132\u001B[0m \u001B[38;5;28;01mif\u001B[39;00m (Ztrain \u001B[38;5;129;01mis\u001B[39;00m \u001B[38;5;129;01mnot\u001B[39;00m \u001B[38;5;28;01mNone\u001B[39;00m) \u001B[38;5;241m&\u001B[39m (\u001B[38;5;28mself\u001B[39m\u001B[38;5;241m.\u001B[39mfit_on_train \u001B[38;5;241m==\u001B[39m \u001B[38;5;28;01mFalse\u001B[39;00m):\n\u001B[0;32m--> 133\u001B[0m     \u001B[38;5;28;01mraise\u001B[39;00m \u001B[38;5;167;01mException\u001B[39;00m(\u001B[38;5;124m\"\u001B[39m\u001B[38;5;124mNuisance models fit fit (cv) in validation sample but Ztrain is specified\u001B[39m\u001B[38;5;124m\"\u001B[39m)\n\u001B[1;32m    135\u001B[0m \u001B[38;5;28;01mif\u001B[39;00m Ztrain \u001B[38;5;129;01mis\u001B[39;00m \u001B[38;5;129;01mnot\u001B[39;00m \u001B[38;5;28;01mNone\u001B[39;00m:\n\u001B[1;32m    136\u001B[0m     \u001B[38;5;28mself\u001B[39m\u001B[38;5;241m.\u001B[39mcate_preds_train \u001B[38;5;241m=\u001B[39m \u001B[38;5;28mself\u001B[39m\u001B[38;5;241m.\u001B[39mfit_cate_cv(\u001B[38;5;28mself\u001B[39m\u001B[38;5;241m.\u001B[39mn_splits, reg_cate, Ztrain, \u001B[38;5;28mself\u001B[39m\u001B[38;5;241m.\u001B[39mDtrain, \u001B[38;5;28mself\u001B[39m\u001B[38;5;241m.\u001B[39mdr_train)\n",
      "\u001B[0;31mException\u001B[0m: Nuisance models fit fit (cv) in validation sample but Ztrain is specified"
     ]
    }
   ],
   "source": [
    "my_dr_tester.fit_cate(reg_cate, Zval, Ztrain)"
   ],
   "metadata": {
    "collapsed": false,
    "pycharm": {
     "name": "#%%\n"
    }
   }
  },
  {
   "cell_type": "code",
   "execution_count": 12,
   "outputs": [
    {
     "name": "stdout",
     "output_type": "stream",
     "text": [
      "   treatment  blp_est  blp_se  blp_pval\n",
      "0          1   -0.097   0.063     0.126\n",
      "1          2    0.726   0.068     0.000\n"
     ]
    }
   ],
   "source": [
    "print(my_dr_tester.evaluate_blp().blp_res)"
   ],
   "metadata": {
    "collapsed": false,
    "pycharm": {
     "name": "#%%\n"
    }
   }
  },
  {
   "cell_type": "code",
   "execution_count": 13,
   "outputs": [
    {
     "ename": "Exception",
     "evalue": "Must fit nuisance/CATE models on training sample data to use calibration test",
     "output_type": "error",
     "traceback": [
      "\u001B[0;31m---------------------------------------------------------------------------\u001B[0m",
      "\u001B[0;31mException\u001B[0m                                 Traceback (most recent call last)",
      "Cell \u001B[0;32mIn[13], line 1\u001B[0m\n\u001B[0;32m----> 1\u001B[0m \u001B[43mmy_dr_tester\u001B[49m\u001B[38;5;241;43m.\u001B[39;49m\u001B[43mevaluate_cal\u001B[49m\u001B[43m(\u001B[49m\u001B[43m)\u001B[49m\n",
      "File \u001B[0;32m~/stanford/mse328/econ_ml_scratch/drtester.py:143\u001B[0m, in \u001B[0;36mDRtester.evaluate_cal\u001B[0;34m(self, reg_cate, Zval, Ztrain, n_groups)\u001B[0m\n\u001B[1;32m    141\u001B[0m \u001B[38;5;28;01mdef\u001B[39;00m \u001B[38;5;21mevaluate_cal\u001B[39m(\u001B[38;5;28mself\u001B[39m, reg_cate\u001B[38;5;241m=\u001B[39m\u001B[38;5;28;01mNone\u001B[39;00m, Zval\u001B[38;5;241m=\u001B[39m\u001B[38;5;28;01mNone\u001B[39;00m, Ztrain\u001B[38;5;241m=\u001B[39m\u001B[38;5;28;01mNone\u001B[39;00m, n_groups\u001B[38;5;241m=\u001B[39m\u001B[38;5;241m4\u001B[39m):\n\u001B[1;32m    142\u001B[0m     \u001B[38;5;28;01mif\u001B[39;00m \u001B[38;5;28mself\u001B[39m\u001B[38;5;241m.\u001B[39mdr_train \u001B[38;5;129;01mis\u001B[39;00m \u001B[38;5;28;01mNone\u001B[39;00m:\n\u001B[0;32m--> 143\u001B[0m         \u001B[38;5;28;01mraise\u001B[39;00m \u001B[38;5;167;01mException\u001B[39;00m(\u001B[38;5;124m\"\u001B[39m\u001B[38;5;124mMust fit nuisance/CATE models on training sample data to use calibration test\u001B[39m\u001B[38;5;124m\"\u001B[39m)\n\u001B[1;32m    145\u001B[0m     \u001B[38;5;28;01mif\u001B[39;00m (\u001B[38;5;28mself\u001B[39m\u001B[38;5;241m.\u001B[39mcate_preds_val \u001B[38;5;129;01mis\u001B[39;00m \u001B[38;5;28;01mNone\u001B[39;00m) \u001B[38;5;129;01mor\u001B[39;00m (\u001B[38;5;28mself\u001B[39m\u001B[38;5;241m.\u001B[39mcate_preds_train \u001B[38;5;129;01mis\u001B[39;00m \u001B[38;5;28;01mNone\u001B[39;00m):\n\u001B[1;32m    146\u001B[0m         \u001B[38;5;28;01mif\u001B[39;00m (Zval \u001B[38;5;129;01mis\u001B[39;00m \u001B[38;5;28;01mNone\u001B[39;00m) \u001B[38;5;129;01mor\u001B[39;00m (reg_cate \u001B[38;5;129;01mis\u001B[39;00m \u001B[38;5;28;01mNone\u001B[39;00m):\n",
      "\u001B[0;31mException\u001B[0m: Must fit nuisance/CATE models on training sample data to use calibration test"
     ]
    }
   ],
   "source": [
    "my_dr_tester.evaluate_cal()"
   ],
   "metadata": {
    "collapsed": false,
    "pycharm": {
     "name": "#%%\n"
    }
   }
  },
  {
   "cell_type": "code",
   "execution_count": 14,
   "outputs": [
    {
     "ename": "Exception",
     "evalue": "CATE not yet fitted - must provide Zval and CATE estimator",
     "output_type": "error",
     "traceback": [
      "\u001B[0;31m---------------------------------------------------------------------------\u001B[0m",
      "\u001B[0;31mException\u001B[0m                                 Traceback (most recent call last)",
      "Cell \u001B[0;32mIn[14], line 1\u001B[0m\n\u001B[0;32m----> 1\u001B[0m \u001B[43mmy_dr_tester\u001B[49m\u001B[38;5;241;43m.\u001B[39;49m\u001B[43mevaluate_qini\u001B[49m\u001B[43m(\u001B[49m\u001B[43m)\u001B[49m\n",
      "File \u001B[0;32m~/stanford/mse328/econ_ml_scratch/drtester.py:401\u001B[0m, in \u001B[0;36mDRtester.evaluate_qini\u001B[0;34m(self, reg_cate, Zval, Ztrain, percentiles)\u001B[0m\n\u001B[1;32m    399\u001B[0m \u001B[38;5;28;01mif\u001B[39;00m (\u001B[38;5;28mself\u001B[39m\u001B[38;5;241m.\u001B[39mcate_preds_val \u001B[38;5;129;01mis\u001B[39;00m \u001B[38;5;28;01mNone\u001B[39;00m) \u001B[38;5;129;01mor\u001B[39;00m (\u001B[38;5;28mself\u001B[39m\u001B[38;5;241m.\u001B[39mcate_preds_train \u001B[38;5;129;01mis\u001B[39;00m \u001B[38;5;28;01mNone\u001B[39;00m):\n\u001B[1;32m    400\u001B[0m     \u001B[38;5;28;01mif\u001B[39;00m (Zval \u001B[38;5;129;01mis\u001B[39;00m \u001B[38;5;28;01mNone\u001B[39;00m) \u001B[38;5;129;01mor\u001B[39;00m (reg_cate \u001B[38;5;129;01mis\u001B[39;00m \u001B[38;5;28;01mNone\u001B[39;00m):\n\u001B[0;32m--> 401\u001B[0m         \u001B[38;5;28;01mraise\u001B[39;00m \u001B[38;5;167;01mException\u001B[39;00m(\u001B[38;5;124m'\u001B[39m\u001B[38;5;124mCATE not yet fitted - must provide Zval and CATE estimator\u001B[39m\u001B[38;5;124m'\u001B[39m)\n\u001B[1;32m    402\u001B[0m     \u001B[38;5;28mself\u001B[39m\u001B[38;5;241m.\u001B[39mfit_cate(reg_cate, Zval, Ztrain)\n\u001B[1;32m    404\u001B[0m \u001B[38;5;28;01mif\u001B[39;00m \u001B[38;5;28mself\u001B[39m\u001B[38;5;241m.\u001B[39mn_treat \u001B[38;5;241m==\u001B[39m \u001B[38;5;241m1\u001B[39m:\n",
      "\u001B[0;31mException\u001B[0m: CATE not yet fitted - must provide Zval and CATE estimator"
     ]
    }
   ],
   "source": [
    "my_dr_tester.evaluate_qini()"
   ],
   "metadata": {
    "collapsed": false,
    "pycharm": {
     "name": "#%%\n"
    }
   }
  },
  {
   "cell_type": "code",
   "execution_count": 8,
   "outputs": [],
   "source": [
    "my_dr_tester = DRtester(reg_y, reg_t).fit_nuisance(Xval, Dval, Yval, Xtrain, Dtrain, Ytrain)\n",
    "\n",
    "# Simple classifier and regressor for propensity, outcome, and cate\n",
    "reg_cate_1 = GradientBoostingRegressor(learning_rate=0.1, random_state=10)\n",
    "reg_cate_2 = GradientBoostingRegressor(learning_rate=0.5, random_state=1)\n",
    "\n",
    "Ztrain = Xtrain[:, 1]\n",
    "Zval = Xval[:, 1]"
   ],
   "metadata": {
    "collapsed": false,
    "pycharm": {
     "name": "#%%\n"
    }
   }
  },
  {
   "cell_type": "code",
   "execution_count": 9,
   "outputs": [
    {
     "name": "stdout",
     "output_type": "stream",
     "text": [
      "   treatment  blp_est  blp_se  blp_pval  qini_coeff  qini_se  qini_pval  \\\n",
      "0          1   -0.053   0.069      0.44      -0.003    0.016      0.426   \n",
      "1          2    0.831   0.068      0.00       0.413    0.019      0.000   \n",
      "\n",
      "   cal_r_squared  \n",
      "0         -3.974  \n",
      "1          0.921  \n"
     ]
    }
   ],
   "source": [
    "my_dr_tester = my_dr_tester.evaluate_all(reg_cate_1, Zval, Ztrain)\n",
    "print(my_dr_tester.df_res)"
   ],
   "metadata": {
    "collapsed": false,
    "pycharm": {
     "name": "#%%\n"
    }
   }
  },
  {
   "cell_type": "code",
   "execution_count": 10,
   "outputs": [
    {
     "name": "stdout",
     "output_type": "stream",
     "text": [
      "   treatment  blp_est  blp_se  blp_pval  qini_coeff  qini_se  qini_pval  \\\n",
      "0          1   -0.014   0.034     0.668       0.005    0.016      0.388   \n",
      "1          2    0.456   0.042     0.000       0.341    0.018      0.000   \n",
      "\n",
      "   cal_r_squared  \n",
      "0         -7.464  \n",
      "1          0.568  \n"
     ]
    }
   ],
   "source": [
    "my_dr_tester = my_dr_tester.evaluate_all(reg_cate_2, Zval, Ztrain)\n",
    "print(my_dr_tester.df_res)"
   ],
   "metadata": {
    "collapsed": false,
    "pycharm": {
     "name": "#%%\n"
    }
   }
  },
  {
   "cell_type": "code",
   "execution_count": null,
   "outputs": [],
   "source": [],
   "metadata": {
    "collapsed": false,
    "pycharm": {
     "name": "#%%\n"
    }
   }
  }
 ],
 "metadata": {
  "kernelspec": {
   "display_name": "Python 3",
   "language": "python",
   "name": "python3"
  },
  "language_info": {
   "codemirror_mode": {
    "name": "ipython",
    "version": 2
   },
   "file_extension": ".py",
   "mimetype": "text/x-python",
   "name": "python",
   "nbconvert_exporter": "python",
   "pygments_lexer": "ipython2",
   "version": "2.7.6"
  }
 },
 "nbformat": 4,
 "nbformat_minor": 0
}