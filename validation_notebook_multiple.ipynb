{
 "cells": [
  {
   "cell_type": "code",
   "execution_count": 1,
   "metadata": {
    "collapsed": true,
    "pycharm": {
     "name": "#%%\n"
    }
   },
   "outputs": [],
   "source": [
    "import numpy as np\n",
    "import pandas as pd\n",
    "import scipy.stats as st\n",
    "from sklearn.ensemble import RandomForestClassifier, GradientBoostingRegressor\n",
    "\n",
    "from drtester import DRtester"
   ]
  },
  {
   "cell_type": "markdown",
   "source": [
    "### Generate Data"
   ],
   "metadata": {
    "collapsed": false,
    "pycharm": {
     "name": "#%% md\n"
    }
   }
  },
  {
   "cell_type": "code",
   "execution_count": 2,
   "outputs": [],
   "source": [
    "np.random.seed(123)\n",
    "\n",
    "N = 10000 # number of units\n",
    "K =  5 # number of covariates\n",
    "\n",
    "# Generate random Xs\n",
    "X_mu = np.zeros(5) # Means of Xs\n",
    "# Random covariance matrix of Xs\n",
    "X_sig = np.diag(np.random.rand(5))\n",
    "# X_sig = np.random.rand(5, 5)\n",
    "# X_sig = np.dot(X_sig, X_sig.transpose())\n",
    "X = st.multivariate_normal(X_mu, X_sig).rvs(N)\n",
    "\n",
    "# Effect of Xs on outcome\n",
    "X_beta = np.random.uniform(0, 5, K)\n",
    "# Effect of treatment on outcomes\n",
    "D_beta = np.array([0, 1, 2])\n",
    "# Effect of treatment on outcome conditional on X1\n",
    "DX1_beta = np.array([0, 0, 3])\n",
    "\n",
    "# Generate 3 treatments (randomly assigned, equal probability)\n",
    "D1 = np.random.uniform(0, 1, N)\n",
    "D = np.where(D1 <= 1/3, 0, np.where(D1 > 2/3,2, 1))\n",
    "D_dum = pd.get_dummies(D)\n",
    "\n",
    "# Generate Y (based on X, D, and random noise)\n",
    "Y_sig = 1 # Variance of random outcome noise\n",
    "Y = X @ X_beta + (D_dum @ D_beta) + X[:, 1] * (D_dum @ DX1_beta) + np.random.normal(0, Y_sig, N)\n",
    "Y = Y.to_numpy()"
   ],
   "metadata": {
    "collapsed": false,
    "pycharm": {
     "name": "#%%\n"
    }
   }
  },
  {
   "cell_type": "code",
   "execution_count": 3,
   "outputs": [],
   "source": [
    "# Split to training and validation\n",
    "train_prop = .5\n",
    "train_N = np.ceil(train_prop * N)\n",
    "ind = np.array(range(N))\n",
    "train_ind = np.random.choice(N, int(train_N), replace = False)\n",
    "val_ind = ind[~np.isin(ind, train_ind)]\n",
    "\n",
    "Xtrain, Dtrain, Ytrain = X[train_ind], D[train_ind], Y[train_ind]\n",
    "Xval, Dval, Yval = X[val_ind], D[val_ind], Y[val_ind]\n",
    "\n",
    "del X, D, Y"
   ],
   "metadata": {
    "collapsed": false,
    "pycharm": {
     "name": "#%%\n"
    }
   }
  },
  {
   "cell_type": "markdown",
   "source": [
    "### Validation"
   ],
   "metadata": {
    "collapsed": false,
    "pycharm": {
     "name": "#%% md\n"
    }
   }
  },
  {
   "cell_type": "code",
   "execution_count": 4,
   "outputs": [],
   "source": [
    "# Simple classifier and regressor for propensity, outcome, and cate\n",
    "reg_t = RandomForestClassifier()\n",
    "reg_y = GradientBoostingRegressor()\n",
    "reg_cate = GradientBoostingRegressor()"
   ],
   "metadata": {
    "collapsed": false,
    "pycharm": {
     "name": "#%%\n"
    }
   }
  },
  {
   "cell_type": "code",
   "execution_count": 5,
   "outputs": [],
   "source": [
    "my_dr_tester = DRtester(reg_y, reg_t).fit_nuisance(Xval, Dval, Yval, Xtrain, Dtrain, Ytrain)"
   ],
   "metadata": {
    "collapsed": false,
    "pycharm": {
     "name": "#%%\n"
    }
   }
  },
  {
   "cell_type": "code",
   "execution_count": 6,
   "outputs": [],
   "source": [
    "Ztrain = Xtrain[:, 1]\n",
    "Zval = Xval[:, 1]\n",
    "my_dr_tester = my_dr_tester.fit_cate(reg_cate, Zval, Ztrain)"
   ],
   "metadata": {
    "collapsed": false,
    "pycharm": {
     "name": "#%%\n"
    }
   }
  },
  {
   "cell_type": "code",
   "execution_count": 7,
   "outputs": [],
   "source": [
    "my_dr_tester = my_dr_tester.evaluate_all()"
   ],
   "metadata": {
    "collapsed": false,
    "pycharm": {
     "name": "#%%\n"
    }
   }
  },
  {
   "cell_type": "code",
   "execution_count": 9,
   "outputs": [
    {
     "name": "stdout",
     "output_type": "stream",
     "text": [
      "   blp_est  blp_se  blp_pval  cal_r_squared\n",
      "1   -0.043   0.060     0.474         -1.020\n",
      "2    0.820   0.096     0.000          0.892\n"
     ]
    }
   ],
   "source": [
    "print(my_dr_tester.df_res)"
   ],
   "metadata": {
    "collapsed": false,
    "pycharm": {
     "name": "#%%\n"
    }
   }
  },
  {
   "cell_type": "code",
   "execution_count": 14,
   "outputs": [
    {
     "data": {
      "text/plain": "<Axes: title={'center': 'Treatment = 2, Calibration R^2 = 0.892'}, xlabel='Group Mean CATE', ylabel='GATE'>"
     },
     "execution_count": 14,
     "metadata": {},
     "output_type": "execute_result"
    },
    {
     "data": {
      "text/plain": "<Figure size 640x480 with 1 Axes>",
      "image/png": "[encoded data removed]"
     },
     "metadata": {},
     "output_type": "display_data"
    }
   ],
   "source": [
    "my_dr_tester.plot_cal(2)"
   ],
   "metadata": {
    "collapsed": false,
    "pycharm": {
     "name": "#%%\n"
    }
   }
  },
  {
   "cell_type": "code",
   "execution_count": 16,
   "outputs": [],
   "source": [
    "my_dr_tester = DRtester(reg_y, reg_t).fit_nuisance(Xval, Dval, Yval)\n",
    "\n",
    "Ztrain = Xtrain[:, 1]\n",
    "Zval = Xval[:, 1]\n",
    "my_dr_tester = my_dr_tester.fit_cate(reg_cate, Zval)"
   ],
   "metadata": {
    "collapsed": false,
    "pycharm": {
     "name": "#%%\n"
    }
   }
  },
  {
   "cell_type": "code",
   "execution_count": 17,
   "outputs": [
    {
     "ename": "Exception",
     "evalue": "Nuisance models fit fit (cv) in validation sample but Ztrain is specified",
     "output_type": "error",
     "traceback": [
      "\u001B[0;31m---------------------------------------------------------------------------\u001B[0m",
      "\u001B[0;31mException\u001B[0m                                 Traceback (most recent call last)",
      "Cell \u001B[0;32mIn[17], line 1\u001B[0m\n\u001B[0;32m----> 1\u001B[0m my_dr_tester \u001B[38;5;241m=\u001B[39m \u001B[43mmy_dr_tester\u001B[49m\u001B[38;5;241;43m.\u001B[39;49m\u001B[43mfit_cate\u001B[49m\u001B[43m(\u001B[49m\u001B[43mreg_cate\u001B[49m\u001B[43m,\u001B[49m\u001B[43m \u001B[49m\u001B[43mZval\u001B[49m\u001B[43m,\u001B[49m\u001B[43m \u001B[49m\u001B[43mZtrain\u001B[49m\u001B[43m)\u001B[49m\n",
      "File \u001B[0;32m~/Documents/school/spring_2023/ml/econ_ml_scratch/drtester.py:126\u001B[0m, in \u001B[0;36mDRtester.fit_cate\u001B[0;34m(self, reg_cate, Zval, Ztrain)\u001B[0m\n\u001B[1;32m    123\u001B[0m     \u001B[38;5;28;01mraise\u001B[39;00m \u001B[38;5;167;01mException\u001B[39;00m(\u001B[38;5;124m\"\u001B[39m\u001B[38;5;124mNuisance models fit on training sample but Ztrain not specified\u001B[39m\u001B[38;5;124m\"\u001B[39m)\n\u001B[1;32m    125\u001B[0m \u001B[38;5;28;01mif\u001B[39;00m (Ztrain \u001B[38;5;129;01mis\u001B[39;00m \u001B[38;5;129;01mnot\u001B[39;00m \u001B[38;5;28;01mNone\u001B[39;00m) \u001B[38;5;241m&\u001B[39m (\u001B[38;5;28mself\u001B[39m\u001B[38;5;241m.\u001B[39mfit_on_train \u001B[38;5;241m==\u001B[39m \u001B[38;5;28;01mFalse\u001B[39;00m):\n\u001B[0;32m--> 126\u001B[0m     \u001B[38;5;28;01mraise\u001B[39;00m \u001B[38;5;167;01mException\u001B[39;00m(\u001B[38;5;124m\"\u001B[39m\u001B[38;5;124mNuisance models fit fit (cv) in validation sample but Ztrain is specified\u001B[39m\u001B[38;5;124m\"\u001B[39m)\n\u001B[1;32m    128\u001B[0m \u001B[38;5;28;01mif\u001B[39;00m Ztrain \u001B[38;5;129;01mis\u001B[39;00m \u001B[38;5;129;01mnot\u001B[39;00m \u001B[38;5;28;01mNone\u001B[39;00m:\n\u001B[1;32m    129\u001B[0m     \u001B[38;5;28mself\u001B[39m\u001B[38;5;241m.\u001B[39mcate_preds_train \u001B[38;5;241m=\u001B[39m \u001B[38;5;28mself\u001B[39m\u001B[38;5;241m.\u001B[39mfit_cate_cv(reg_cate, Ztrain, \u001B[38;5;28mself\u001B[39m\u001B[38;5;241m.\u001B[39mDtrain, \u001B[38;5;28mself\u001B[39m\u001B[38;5;241m.\u001B[39mdr_train)\n",
      "\u001B[0;31mException\u001B[0m: Nuisance models fit fit (cv) in validation sample but Ztrain is specified"
     ]
    }
   ],
   "source": [
    "my_dr_tester = my_dr_tester.fit_cate(reg_cate, Zval, Ztrain)"
   ],
   "metadata": {
    "collapsed": false,
    "pycharm": {
     "name": "#%%\n"
    }
   }
  },
  {
   "cell_type": "code",
   "execution_count": 20,
   "outputs": [
    {
     "data": {
      "text/plain": "   blp_est  blp_se  blp_pval\n1   -0.097   0.063     0.126\n2    0.726   0.068     0.000",
      "text/html": "<div>\n<style scoped>\n    .dataframe tbody tr th:only-of-type {\n        vertical-align: middle;\n    }\n\n    .dataframe tbody tr th {\n        vertical-align: top;\n    }\n\n    .dataframe thead th {\n        text-align: right;\n    }\n</style>\n<table border=\"1\" class=\"dataframe\">\n  <thead>\n    <tr style=\"text-align: right;\">\n      <th></th>\n      <th>blp_est</th>\n      <th>blp_se</th>\n      <th>blp_pval</th>\n    </tr>\n  </thead>\n  <tbody>\n    <tr>\n      <th>1</th>\n      <td>-0.097</td>\n      <td>0.063</td>\n      <td>0.126</td>\n    </tr>\n    <tr>\n      <th>2</th>\n      <td>0.726</td>\n      <td>0.068</td>\n      <td>0.000</td>\n    </tr>\n  </tbody>\n</table>\n</div>"
     },
     "execution_count": 20,
     "metadata": {},
     "output_type": "execute_result"
    }
   ],
   "source": [
    "my_dr_tester.evaluate_blp().blp_res"
   ],
   "metadata": {
    "collapsed": false,
    "pycharm": {
     "name": "#%%\n"
    }
   }
  },
  {
   "cell_type": "code",
   "execution_count": 27,
   "outputs": [
    {
     "ename": "Exception",
     "evalue": "Must fit nuisance/CATE models on training sample data to use calibration test",
     "output_type": "error",
     "traceback": [
      "\u001B[0;31m---------------------------------------------------------------------------\u001B[0m",
      "\u001B[0;31mException\u001B[0m                                 Traceback (most recent call last)",
      "Cell \u001B[0;32mIn[27], line 1\u001B[0m\n\u001B[0;32m----> 1\u001B[0m \u001B[43mmy_dr_tester\u001B[49m\u001B[38;5;241;43m.\u001B[39;49m\u001B[43mevaluate_cal\u001B[49m\u001B[43m(\u001B[49m\u001B[43m)\u001B[49m\n",
      "File \u001B[0;32m~/Documents/school/spring_2023/ml/econ_ml_scratch/drtester.py:140\u001B[0m, in \u001B[0;36mDRtester.evaluate_cal\u001B[0;34m(self, n_groups)\u001B[0m\n\u001B[1;32m    137\u001B[0m \u001B[38;5;28;01mdef\u001B[39;00m \u001B[38;5;21mevaluate_cal\u001B[39m(\u001B[38;5;28mself\u001B[39m, n_groups \u001B[38;5;241m=\u001B[39m \u001B[38;5;241m4\u001B[39m):\n\u001B[1;32m    139\u001B[0m     \u001B[38;5;28;01mif\u001B[39;00m \u001B[38;5;28mself\u001B[39m\u001B[38;5;241m.\u001B[39mdr_train \u001B[38;5;129;01mis\u001B[39;00m \u001B[38;5;28;01mNone\u001B[39;00m:\n\u001B[0;32m--> 140\u001B[0m         \u001B[38;5;28;01mraise\u001B[39;00m \u001B[38;5;167;01mException\u001B[39;00m(\u001B[38;5;124m\"\u001B[39m\u001B[38;5;124mMust fit nuisance/CATE models on training sample data to use calibration test\u001B[39m\u001B[38;5;124m\"\u001B[39m)\n\u001B[1;32m    142\u001B[0m     \u001B[38;5;28mself\u001B[39m\u001B[38;5;241m.\u001B[39mcal_r_squared \u001B[38;5;241m=\u001B[39m np\u001B[38;5;241m.\u001B[39mzeros(\u001B[38;5;28mself\u001B[39m\u001B[38;5;241m.\u001B[39mn_treat)\n\u001B[1;32m    143\u001B[0m     \u001B[38;5;28mself\u001B[39m\u001B[38;5;241m.\u001B[39mate \u001B[38;5;241m=\u001B[39m np\u001B[38;5;241m.\u001B[39mzeros(\u001B[38;5;28mself\u001B[39m\u001B[38;5;241m.\u001B[39mn_treat)\n",
      "\u001B[0;31mException\u001B[0m: Must fit nuisance/CATE models on training sample data to use calibration test"
     ]
    }
   ],
   "source": [
    "my_dr_tester.evaluate_cal()"
   ],
   "metadata": {
    "collapsed": false,
    "pycharm": {
     "name": "#%%\n"
    }
   }
  },
  {
   "cell_type": "code",
   "execution_count": null,
   "outputs": [],
   "source": [],
   "metadata": {
    "collapsed": false,
    "pycharm": {
     "name": "#%%\n"
    }
   }
  }
 ],
 "metadata": {
  "kernelspec": {
   "display_name": "Python 3",
   "language": "python",
   "name": "python3"
  },
  "language_info": {
   "codemirror_mode": {
    "name": "ipython",
    "version": 2
   },
   "file_extension": ".py",
   "mimetype": "text/x-python",
   "name": "python",
   "nbconvert_exporter": "python",
   "pygments_lexer": "ipython2",
   "version": "2.7.6"
  }
 },
 "nbformat": 4,
 "nbformat_minor": 0
}