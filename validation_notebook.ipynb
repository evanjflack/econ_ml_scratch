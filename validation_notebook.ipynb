{
 "cells": [
  {
   "cell_type": "markdown",
   "source": [
    "## Econ ML Validation\n",
    "\n",
    "**Authors** Evan Flack and Amar Venugopal\n",
    "\n",
    "**Description:** This notebook provides an example use-case for calibration scores for CATE models. Currently, it implements two scores: a linear regression score (Chernozhukov et al., 2022) and a calibration score (Dwivedi et al., 2020)"
   ],
   "metadata": {
    "collapsed": false,
    "pycharm": {
     "name": "#%% md\n"
    }
   }
  },
  {
   "cell_type": "code",
   "execution_count": 16,
   "outputs": [],
   "source": [
    "import pandas as pd\n",
    "import numpy as np\n",
    "from sklearn.model_selection import train_test_split, cross_val_predict, StratifiedKFold\n",
    "from sklearn.base import clone\n",
    "import joblib\n",
    "#import plotnine as pn\n",
    "\n",
    "from datasets import fetch_data_generator\n",
    "from myflaml import auto_reg, auto_clf\n",
    "from validation import DRLinear, cal_scorer\n",
    "# from DRlinear import DRLinear\n",
    "# from cal_scorer import cal_scorer"
   ],
   "metadata": {
    "collapsed": false,
    "pycharm": {
     "name": "#%%\n"
    }
   }
  },
  {
   "cell_type": "code",
   "execution_count": 17,
   "outputs": [],
   "source": [
    "# Notebook options\n",
    "# Set as true if you have already pre-hyper-tuned the nuisance and/or dr learner models\n",
    "pre_tuned_n = True\n",
    "pre_tuned_dr = True"
   ],
   "metadata": {
    "collapsed": false,
    "pycharm": {
     "name": "#%%\n"
    }
   }
  },
  {
   "cell_type": "markdown",
   "source": [
    "### Prep Data\n",
    "\n",
    "#### Semi-synthetic data on 401k savings"
   ],
   "metadata": {
    "collapsed": false,
    "pycharm": {
     "name": "#%% md\n"
    }
   }
  },
  {
   "cell_type": "code",
   "execution_count": 18,
   "outputs": [],
   "source": [
    "## For semi-synthetic data generation\n",
    "data = '401k'\n",
    "semi_synth = False # Whether true outcome y should be replaced by a fake outcome from a known CEF\n",
    "simple_synth = True # Whether the true CEF of the fake y should be simple or fitted from data\n",
    "max_depth = 2 # max depth of random forest during for semi-synthetic model fitting\n",
    "scale = .2 # magnitude of noise in semi-synthetic data\n",
    "\n",
    "np.random.seed(712)\n",
    "def simple_true_cef(D, X): # simple CEF of the outcome for semi-synthetic data\n",
    "    return .5 * np.array(X)[:, 1] * D + np.array(X)[:, 1]\n",
    "\n",
    "\n",
    "get_data, abtest, true_cef, true_cate = fetch_data_generator(data=data, semi_synth=semi_synth,\n",
    "                                                             simple_synth=simple_synth,\n",
    "                                                             scale=scale, true_f=simple_true_cef,\n",
    "                                                             max_depth=max_depth)\n",
    "X, D, y, groups = get_data()"
   ],
   "metadata": {
    "collapsed": false,
    "pycharm": {
     "name": "#%%\n"
    }
   }
  },
  {
   "cell_type": "code",
   "execution_count": 19,
   "outputs": [],
   "source": [
    "# Split into training (X), validation (Xval), and test (Xtest) sub-samples\n",
    "X, Xval, D, Dval, y, yval = train_test_split(X, D, y, train_size=.6, shuffle=True, random_state=123)\n",
    "Xval, Xtest, Dval, Dtest, yval, ytest = train_test_split(Xval, Dval, yval, train_size=.5, shuffle=True, random_state=123)"
   ],
   "metadata": {
    "collapsed": false,
    "pycharm": {
     "name": "#%%\n"
    }
   }
  },
  {
   "cell_type": "markdown",
   "source": [
    "### Tune Nuisance Models"
   ],
   "metadata": {
    "collapsed": false,
    "pycharm": {
     "name": "#%% md\n"
    }
   }
  },
  {
   "cell_type": "code",
   "execution_count": 20,
   "outputs": [],
   "source": [
    "time_budget = 120\n",
    "groups = None\n",
    "n_splits = 5\n",
    "split_type = 'auto'\n",
    "verbose = 0"
   ],
   "metadata": {
    "collapsed": false,
    "pycharm": {
     "name": "#%%\n"
    }
   }
  },
  {
   "cell_type": "code",
   "execution_count": 27,
   "outputs": [],
   "source": [
    "model_reg = auto_reg(np.column_stack((D, X)), y, groups=groups, n_splits=n_splits, split_type=split_type,\n",
    "                     verbose=verbose, time_budget=time_budget)"
   ],
   "metadata": {
    "collapsed": false,
    "pycharm": {
     "name": "#%%\n"
    }
   }
  },
  {
   "cell_type": "code",
   "execution_count": 36,
   "outputs": [
    {
     "data": {
      "text/plain": "['__annotations__',\n '__call__',\n '__class__',\n '__closure__',\n '__code__',\n '__defaults__',\n '__delattr__',\n '__dict__',\n '__dir__',\n '__doc__',\n '__eq__',\n '__format__',\n '__ge__',\n '__get__',\n '__getattribute__',\n '__globals__',\n '__gt__',\n '__hash__',\n '__init__',\n '__init_subclass__',\n '__kwdefaults__',\n '__le__',\n '__lt__',\n '__module__',\n '__name__',\n '__ne__',\n '__new__',\n '__qualname__',\n '__reduce__',\n '__reduce_ex__',\n '__repr__',\n '__setattr__',\n '__sizeof__',\n '__str__',\n '__subclasshook__']"
     },
     "execution_count": 36,
     "metadata": {},
     "output_type": "execute_result"
    }
   ],
   "source": [
    "dir(model_reg)"
   ],
   "metadata": {
    "collapsed": false,
    "pycharm": {
     "name": "#%%\n"
    }
   }
  },
  {
   "cell_type": "code",
   "execution_count": 28,
   "outputs": [],
   "source": [
    "# Tune hyper-parameters/find best prediction method (restricted here to xgboost)\n",
    "if pre_tuned_n:\n",
    "    mt, mreg_zero, mreg_one = joblib.load('nuisance.jbl')\n",
    "    model_t = lambda: clone(mt)\n",
    "    model_reg_zero = lambda: clone(mreg_zero)\n",
    "    model_reg_one = lambda: clone(mreg_one)\n",
    "\n",
    "else:\n",
    "    model_reg_zero = auto_reg(X[D==0], y[D==0], groups=groups, n_splits=n_splits, split_type=split_type,\n",
    "                              verbose=verbose, time_budget=time_budget)\n",
    "    model_reg_one = auto_reg(X[D==1], y[D==1], groups=groups, n_splits=n_splits, split_type=split_type,\n",
    "                             verbose=verbose, time_budget=time_budget)\n",
    "    model_t = auto_clf(X, D, groups=groups, n_splits=n_splits, split_type=split_type,\n",
    "                       verbose=verbose, time_budget=time_budget)\n",
    "\n",
    "    joblib.dump([model_t(), model_reg_zero(), model_reg_one()], 'nuisance.jbl')"
   ],
   "metadata": {
    "collapsed": false,
    "pycharm": {
     "name": "#%%\n"
    }
   }
  },
  {
   "cell_type": "markdown",
   "source": [
    "### Get OOS Predictions"
   ],
   "metadata": {
    "collapsed": false,
    "pycharm": {
     "name": "#%% md\n"
    }
   }
  },
  {
   "cell_type": "code",
   "execution_count": 39,
   "outputs": [
    {
     "data": {
      "text/plain": "AutoMLWrapCLF(model=<flaml.automl.model.XGBoostSklearnEstimator object at 0x7fd39809a070>)",
      "text/html": "<style>#sk-container-id-1 {color: black;background-color: white;}#sk-container-id-1 pre{padding: 0;}#sk-container-id-1 div.sk-toggleable {background-color: white;}#sk-container-id-1 label.sk-toggleable__label {cursor: pointer;display: block;width: 100%;margin-bottom: 0;padding: 0.3em;box-sizing: border-box;text-align: center;}#sk-container-id-1 label.sk-toggleable__label-arrow:before {content: \"▸\";float: left;margin-right: 0.25em;color: #696969;}#sk-container-id-1 label.sk-toggleable__label-arrow:hover:before {color: black;}#sk-container-id-1 div.sk-estimator:hover label.sk-toggleable__label-arrow:before {color: black;}#sk-container-id-1 div.sk-toggleable__content {max-height: 0;max-width: 0;overflow: hidden;text-align: left;background-color: #f0f8ff;}#sk-container-id-1 div.sk-toggleable__content pre {margin: 0.2em;color: black;border-radius: 0.25em;background-color: #f0f8ff;}#sk-container-id-1 input.sk-toggleable__control:checked~div.sk-toggleable__content {max-height: 200px;max-width: 100%;overflow: auto;}#sk-container-id-1 input.sk-toggleable__control:checked~label.sk-toggleable__label-arrow:before {content: \"▾\";}#sk-container-id-1 div.sk-estimator input.sk-toggleable__control:checked~label.sk-toggleable__label {background-color: #d4ebff;}#sk-container-id-1 div.sk-label input.sk-toggleable__control:checked~label.sk-toggleable__label {background-color: #d4ebff;}#sk-container-id-1 input.sk-hidden--visually {border: 0;clip: rect(1px 1px 1px 1px);clip: rect(1px, 1px, 1px, 1px);height: 1px;margin: -1px;overflow: hidden;padding: 0;position: absolute;width: 1px;}#sk-container-id-1 div.sk-estimator {font-family: monospace;background-color: #f0f8ff;border: 1px dotted black;border-radius: 0.25em;box-sizing: border-box;margin-bottom: 0.5em;}#sk-container-id-1 div.sk-estimator:hover {background-color: #d4ebff;}#sk-container-id-1 div.sk-parallel-item::after {content: \"\";width: 100%;border-bottom: 1px solid gray;flex-grow: 1;}#sk-container-id-1 div.sk-label:hover label.sk-toggleable__label {background-color: #d4ebff;}#sk-container-id-1 div.sk-serial::before {content: \"\";position: absolute;border-left: 1px solid gray;box-sizing: border-box;top: 0;bottom: 0;left: 50%;z-index: 0;}#sk-container-id-1 div.sk-serial {display: flex;flex-direction: column;align-items: center;background-color: white;padding-right: 0.2em;padding-left: 0.2em;position: relative;}#sk-container-id-1 div.sk-item {position: relative;z-index: 1;}#sk-container-id-1 div.sk-parallel {display: flex;align-items: stretch;justify-content: center;background-color: white;position: relative;}#sk-container-id-1 div.sk-item::before, #sk-container-id-1 div.sk-parallel-item::before {content: \"\";position: absolute;border-left: 1px solid gray;box-sizing: border-box;top: 0;bottom: 0;left: 50%;z-index: -1;}#sk-container-id-1 div.sk-parallel-item {display: flex;flex-direction: column;z-index: 1;position: relative;background-color: white;}#sk-container-id-1 div.sk-parallel-item:first-child::after {align-self: flex-end;width: 50%;}#sk-container-id-1 div.sk-parallel-item:last-child::after {align-self: flex-start;width: 50%;}#sk-container-id-1 div.sk-parallel-item:only-child::after {width: 0;}#sk-container-id-1 div.sk-dashed-wrapped {border: 1px dashed gray;margin: 0 0.4em 0.5em 0.4em;box-sizing: border-box;padding-bottom: 0.4em;background-color: white;}#sk-container-id-1 div.sk-label label {font-family: monospace;font-weight: bold;display: inline-block;line-height: 1.2em;}#sk-container-id-1 div.sk-label-container {text-align: center;}#sk-container-id-1 div.sk-container {/* jupyter's `normalize.less` sets `[hidden] { display: none; }` but bootstrap.min.css set `[hidden] { display: none !important; }` so we also need the `!important` here to be able to override the default hidden behavior on the sphinx rendered scikit-learn.org. See: https://github.com/scikit-learn/scikit-learn/issues/21755 */display: inline-block !important;position: relative;}#sk-container-id-1 div.sk-text-repr-fallback {display: none;}</style><div id=\"sk-container-id-1\" class=\"sk-top-container\"><div class=\"sk-text-repr-fallback\"><pre>AutoMLWrapCLF(model=&lt;flaml.automl.model.XGBoostSklearnEstimator object at 0x7fd39809a070&gt;)</pre><b>In a Jupyter environment, please rerun this cell to show the HTML representation or trust the notebook. <br />On GitHub, the HTML representation is unable to render, please try loading this page with nbviewer.org.</b></div><div class=\"sk-container\" hidden><div class=\"sk-item sk-dashed-wrapped\"><div class=\"sk-label-container\"><div class=\"sk-label sk-toggleable\"><input class=\"sk-toggleable__control sk-hidden--visually\" id=\"sk-estimator-id-1\" type=\"checkbox\" ><label for=\"sk-estimator-id-1\" class=\"sk-toggleable__label sk-toggleable__label-arrow\">AutoMLWrapCLF</label><div class=\"sk-toggleable__content\"><pre>AutoMLWrapCLF(model=&lt;flaml.automl.model.XGBoostSklearnEstimator object at 0x7fd39809a070&gt;)</pre></div></div></div><div class=\"sk-parallel\"><div class=\"sk-parallel-item\"><div class=\"sk-item\"><div class=\"sk-label-container\"><div class=\"sk-label sk-toggleable\"><input class=\"sk-toggleable__control sk-hidden--visually\" id=\"sk-estimator-id-2\" type=\"checkbox\" ><label for=\"sk-estimator-id-2\" class=\"sk-toggleable__label sk-toggleable__label-arrow\">model: XGBoostSklearnEstimator</label><div class=\"sk-toggleable__content\"><pre>&lt;flaml.automl.model.XGBoostSklearnEstimator object at 0x7fd39809a070&gt;</pre></div></div></div><div class=\"sk-serial\"><div class=\"sk-item\"><div class=\"sk-estimator sk-toggleable\"><input class=\"sk-toggleable__control sk-hidden--visually\" id=\"sk-estimator-id-3\" type=\"checkbox\" ><label for=\"sk-estimator-id-3\" class=\"sk-toggleable__label sk-toggleable__label-arrow\">XGBoostSklearnEstimator</label><div class=\"sk-toggleable__content\"><pre>&lt;flaml.automl.model.XGBoostSklearnEstimator object at 0x7fd39809a070&gt;</pre></div></div></div></div></div></div></div></div></div></div>"
     },
     "execution_count": 39,
     "metadata": {},
     "output_type": "execute_result"
    }
   ],
   "source": [],
   "metadata": {
    "collapsed": false,
    "pycharm": {
     "name": "#%%\n"
    }
   }
  },
  {
   "cell_type": "code",
   "execution_count": 22,
   "outputs": [],
   "source": [
    "cv = StratifiedKFold(n_splits=n_splits, shuffle=True, random_state=123)\n",
    "splits = list(cv.split(X, D))\n",
    "\n",
    "n = X.shape[0]\n",
    "reg_preds = np.zeros(n)\n",
    "reg_zero_preds = np.zeros(n)\n",
    "reg_one_preds = np.zeros(n)\n",
    "reg_preds_t = np.zeros(n)\n",
    "reg_zero_preds_t = np.zeros(n)\n",
    "reg_one_preds_t = np.zeros(n)\n",
    "\n",
    "DX = np.column_stack((D, X))\n",
    "for train, test in splits:\n",
    "    reg_zero = model_reg_zero().fit(X.iloc[train][D[train]==0], y[train][D[train]==0])\n",
    "    reg_one = model_reg_one().fit(X.iloc[train][D[train]==1], y[train][D[train]==1])\n",
    "    reg_zero_preds_t[test] = reg_zero.predict(X.iloc[test])\n",
    "    reg_one_preds_t[test] = reg_one.predict(X.iloc[test])\n",
    "    reg_preds_t[test] = reg_zero_preds_t[test] * (1 - D[test]) + reg_one_preds_t[test] * D[test]\n",
    "\n",
    "prop_preds = cross_val_predict(model_t(), X, D, cv=splits)"
   ],
   "metadata": {
    "collapsed": false,
    "pycharm": {
     "name": "#%%\n"
    }
   }
  },
  {
   "cell_type": "markdown",
   "source": [
    "### DR Meta-Learner"
   ],
   "metadata": {
    "collapsed": false,
    "pycharm": {
     "name": "#%% md\n"
    }
   }
  },
  {
   "cell_type": "code",
   "execution_count": 23,
   "outputs": [],
   "source": [
    "# Subset of features used for treatment effect heterogeneity\n",
    "hetero_feats = ['inc']\n",
    "Z, Zval, Ztest = X[hetero_feats], Xval[hetero_feats], Xtest[hetero_feats]"
   ],
   "metadata": {
    "collapsed": false,
    "pycharm": {
     "name": "#%%\n"
    }
   }
  },
  {
   "cell_type": "code",
   "execution_count": 24,
   "outputs": [],
   "source": [
    "# Calculate DR outcomes\n",
    "dr_preds = reg_one_preds_t - reg_zero_preds_t\n",
    "dr_preds += (y - reg_preds_t) * (D - prop_preds) / np.clip(prop_preds * (1 - prop_preds), .01, np.inf)"
   ],
   "metadata": {
    "collapsed": false,
    "pycharm": {
     "name": "#%%\n"
    }
   }
  },
  {
   "cell_type": "code",
   "execution_count": 130,
   "outputs": [],
   "source": [
    "# # Predict DR outcomes using Z\n",
    "if not pre_tuned_dr:\n",
    "    model_final_fn = lambda Z, y: auto_reg(Z, y, groups=groups, n_splits=n_splits, split_type=split_type,\n",
    "                                           verbose=verbose, time_budget=time_budget)\n",
    "    drlearner_best = model_final_fn(Z, dr_preds)\n",
    "    joblib.dump(drlearner_best(), 'drlearner.jbl')\n",
    "\n",
    "drlearner = joblib.load('drlearner.jbl')\n",
    "# drlearner = drlearner_best.fit(Z, dr_preds)"
   ],
   "metadata": {
    "collapsed": false,
    "pycharm": {
     "name": "#%%\n"
    }
   }
  },
  {
   "cell_type": "code",
   "execution_count": null,
   "outputs": [],
   "source": [
    "# # Fit nuisance models using the entire training sample\n",
    "# reg_zero = model_reg_zero().fit(X[D == 0], y[D == 0])\n",
    "# reg_one = model_reg_one().fit(X[D == 1], y[D == 1])\n",
    "# reg_t = model_t().fit(X, D)"
   ],
   "metadata": {
    "collapsed": false,
    "pycharm": {
     "name": "#%%\n"
    }
   }
  },
  {
   "cell_type": "code",
   "execution_count": 47,
   "outputs": [],
   "source": [
    "reg_outcome_fitted = model_reg().fit(np.column_stack((D, X)), y)\n",
    "\n",
    "n = Xval.shape[0]\n",
    "reg_preds = reg_outcome_fitted.predict(np.column_stack([Dval, Xval]))"
   ],
   "metadata": {
    "collapsed": false,
    "pycharm": {
     "name": "#%%\n"
    }
   }
  },
  {
   "cell_type": "code",
   "execution_count": 115,
   "outputs": [
    {
     "data": {
      "text/plain": "      age    inc  fsize  educ  db  marr  male  twoearn  pira  nohs  hs  smcol   \n3408   30  37800      5    12   0     1     0        0     0     0   1      0  \\\n5513   33  24606      2    12   1     1     0        1     0     0   1      0   \n4745   29  30750      2    15   0     1     0        1     0     0   0      1   \n2224   27   6780      5    12   0     1     0        0     0     0   1      0   \n3168   30  40389      5    14   1     1     0        1     0     0   0      1   \n...   ...    ...    ...   ...  ..   ...   ...      ...   ...   ...  ..    ...   \n1375   52  13200      4    12   0     0     0        0     0     0   1      0   \n2752   39  19635      5    12   0     1     1        0     0     0   1      0   \n2613   52  26010      1    12   1     0     1        0     0     0   1      0   \n3029   55  56598      4    17   0     1     0        1     0     0   0      0   \n3791   33  31749      6    12   0     1     0        0     0     0   1      0   \n\n      col  hown  \n3408    0     1  \n5513    0     1  \n4745    0     1  \n2224    0     1  \n3168    0     1  \n...   ...   ...  \n1375    0     1  \n2752    0     1  \n2613    0     1  \n3029    1     1  \n3791    0     1  \n\n[2895 rows x 14 columns]",
      "text/html": "<div>\n<style scoped>\n    .dataframe tbody tr th:only-of-type {\n        vertical-align: middle;\n    }\n\n    .dataframe tbody tr th {\n        vertical-align: top;\n    }\n\n    .dataframe thead th {\n        text-align: right;\n    }\n</style>\n<table border=\"1\" class=\"dataframe\">\n  <thead>\n    <tr style=\"text-align: right;\">\n      <th></th>\n      <th>age</th>\n      <th>inc</th>\n      <th>fsize</th>\n      <th>educ</th>\n      <th>db</th>\n      <th>marr</th>\n      <th>male</th>\n      <th>twoearn</th>\n      <th>pira</th>\n      <th>nohs</th>\n      <th>hs</th>\n      <th>smcol</th>\n      <th>col</th>\n      <th>hown</th>\n    </tr>\n  </thead>\n  <tbody>\n    <tr>\n      <th>3408</th>\n      <td>30</td>\n      <td>37800</td>\n      <td>5</td>\n      <td>12</td>\n      <td>0</td>\n      <td>1</td>\n      <td>0</td>\n      <td>0</td>\n      <td>0</td>\n      <td>0</td>\n      <td>1</td>\n      <td>0</td>\n      <td>0</td>\n      <td>1</td>\n    </tr>\n    <tr>\n      <th>5513</th>\n      <td>33</td>\n      <td>24606</td>\n      <td>2</td>\n      <td>12</td>\n      <td>1</td>\n      <td>1</td>\n      <td>0</td>\n      <td>1</td>\n      <td>0</td>\n      <td>0</td>\n      <td>1</td>\n      <td>0</td>\n      <td>0</td>\n      <td>1</td>\n    </tr>\n    <tr>\n      <th>4745</th>\n      <td>29</td>\n      <td>30750</td>\n      <td>2</td>\n      <td>15</td>\n      <td>0</td>\n      <td>1</td>\n      <td>0</td>\n      <td>1</td>\n      <td>0</td>\n      <td>0</td>\n      <td>0</td>\n      <td>1</td>\n      <td>0</td>\n      <td>1</td>\n    </tr>\n    <tr>\n      <th>2224</th>\n      <td>27</td>\n      <td>6780</td>\n      <td>5</td>\n      <td>12</td>\n      <td>0</td>\n      <td>1</td>\n      <td>0</td>\n      <td>0</td>\n      <td>0</td>\n      <td>0</td>\n      <td>1</td>\n      <td>0</td>\n      <td>0</td>\n      <td>1</td>\n    </tr>\n    <tr>\n      <th>3168</th>\n      <td>30</td>\n      <td>40389</td>\n      <td>5</td>\n      <td>14</td>\n      <td>1</td>\n      <td>1</td>\n      <td>0</td>\n      <td>1</td>\n      <td>0</td>\n      <td>0</td>\n      <td>0</td>\n      <td>1</td>\n      <td>0</td>\n      <td>1</td>\n    </tr>\n    <tr>\n      <th>...</th>\n      <td>...</td>\n      <td>...</td>\n      <td>...</td>\n      <td>...</td>\n      <td>...</td>\n      <td>...</td>\n      <td>...</td>\n      <td>...</td>\n      <td>...</td>\n      <td>...</td>\n      <td>...</td>\n      <td>...</td>\n      <td>...</td>\n      <td>...</td>\n    </tr>\n    <tr>\n      <th>1375</th>\n      <td>52</td>\n      <td>13200</td>\n      <td>4</td>\n      <td>12</td>\n      <td>0</td>\n      <td>0</td>\n      <td>0</td>\n      <td>0</td>\n      <td>0</td>\n      <td>0</td>\n      <td>1</td>\n      <td>0</td>\n      <td>0</td>\n      <td>1</td>\n    </tr>\n    <tr>\n      <th>2752</th>\n      <td>39</td>\n      <td>19635</td>\n      <td>5</td>\n      <td>12</td>\n      <td>0</td>\n      <td>1</td>\n      <td>1</td>\n      <td>0</td>\n      <td>0</td>\n      <td>0</td>\n      <td>1</td>\n      <td>0</td>\n      <td>0</td>\n      <td>1</td>\n    </tr>\n    <tr>\n      <th>2613</th>\n      <td>52</td>\n      <td>26010</td>\n      <td>1</td>\n      <td>12</td>\n      <td>1</td>\n      <td>0</td>\n      <td>1</td>\n      <td>0</td>\n      <td>0</td>\n      <td>0</td>\n      <td>1</td>\n      <td>0</td>\n      <td>0</td>\n      <td>1</td>\n    </tr>\n    <tr>\n      <th>3029</th>\n      <td>55</td>\n      <td>56598</td>\n      <td>4</td>\n      <td>17</td>\n      <td>0</td>\n      <td>1</td>\n      <td>0</td>\n      <td>1</td>\n      <td>0</td>\n      <td>0</td>\n      <td>0</td>\n      <td>0</td>\n      <td>1</td>\n      <td>1</td>\n    </tr>\n    <tr>\n      <th>3791</th>\n      <td>33</td>\n      <td>31749</td>\n      <td>6</td>\n      <td>12</td>\n      <td>0</td>\n      <td>1</td>\n      <td>0</td>\n      <td>0</td>\n      <td>0</td>\n      <td>0</td>\n      <td>1</td>\n      <td>0</td>\n      <td>0</td>\n      <td>1</td>\n    </tr>\n  </tbody>\n</table>\n<p>2895 rows × 14 columns</p>\n</div>"
     },
     "execution_count": 115,
     "metadata": {},
     "output_type": "execute_result"
    }
   ],
   "source": [
    "cv = StratifiedKFold(n_splits=n_splits, shuffle=True, random_state=712)\n",
    "splits = list(cv.split(X, D))\n",
    "\n",
    "train = splits[0][0]\n",
    "X.iloc[train][D[train] == 0]"
   ],
   "metadata": {
    "collapsed": false,
    "pycharm": {
     "name": "#%%\n"
    }
   }
  },
  {
   "cell_type": "code",
   "execution_count": 116,
   "outputs": [
    {
     "data": {
      "text/plain": "array([-12425,  -2900,  -3250, ...,   -500,  11900,      0])"
     },
     "execution_count": 116,
     "metadata": {},
     "output_type": "execute_result"
    }
   ],
   "source": [
    "y[train][D[train] == 0]"
   ],
   "metadata": {
    "collapsed": false,
    "pycharm": {
     "name": "#%%\n"
    }
   }
  },
  {
   "cell_type": "code",
   "execution_count": 156,
   "outputs": [],
   "source": [
    "# Fits nuisance in train, predicts in validation\n",
    "def fit_nuisance_train(reg_outcome, reg_t, Xtrain, Dtrain, ytrain, Xval, Dval):\n",
    "\n",
    "    treatments = np.unique(D)\n",
    "    n = Xval.shape[0]\n",
    "    k = len(treatments)\n",
    "    reg_preds = np.zeros((n, k))\n",
    "    for i in treatments:\n",
    "        reg_outcome_fitted = reg_outcome().fit(Xtrain[Dtrain == i], ytrain[Dtrain == i])\n",
    "        reg_preds[:, i] = reg_outcome_fitted.predict(Xval)\n",
    "\n",
    "    reg_t_fitted = reg_t().fit(Xtrain, Dtrain)\n",
    "    prop_preds = reg_t_fitted.predict(Xval)\n",
    "\n",
    "    return reg_preds, prop_preds"
   ],
   "metadata": {
    "collapsed": false,
    "pycharm": {
     "name": "#%%\n"
    }
   }
  },
  {
   "cell_type": "code",
   "execution_count": 157,
   "outputs": [],
   "source": [
    "# CV nuisance predictions\n",
    "def fit_nuisance_cv(reg_outcome, reg_t, X, D, y, nsplits = 5, shuffle = True, random_state = 712):\n",
    "\n",
    "    cv = StratifiedKFold(n_splits=n_splits, shuffle=shuffle, random_state=random_state)\n",
    "    splits = list(cv.split(X, D))\n",
    "\n",
    "    tmts = np.unique(D)\n",
    "    n = X.shape[0]\n",
    "    k = len(treatments)\n",
    "    reg_preds = np.zeros((n, k))\n",
    "\n",
    "    for i in range(len(treatments)):\n",
    "        for train, test in splits:\n",
    "            reg_outcome_fitted = reg_outcome().fit(X.iloc[train][D[train] == tmts[i]], y[train][D[train] == tmts[i]])\n",
    "            reg_preds[test, i] = reg_outcome_fitted.predict(X.iloc[test])\n",
    "\n",
    "    prop_preds = cross_val_predict(model_t(), X, D, cv=splits)\n",
    "\n",
    "    return reg_preds, prop_preds"
   ],
   "metadata": {
    "collapsed": false,
    "pycharm": {
     "name": "#%%\n"
    }
   }
  },
  {
   "cell_type": "code",
   "execution_count": 158,
   "outputs": [],
   "source": [
    "# Calculates DR outcomes\n",
    "def calculate_dr_outcomes(\n",
    "        D,\n",
    "        y,\n",
    "        reg_preds,\n",
    "        prop_preds\n",
    "):\n",
    "\n",
    "    reg_preds_chosen = np.sum(reg_preds * np.column_stack((D, 1 - D)), axis = 1)\n",
    "\n",
    "    # Calculate doubly-robust outcome\n",
    "    dr = reg_preds[:, 1] - reg_preds[:, 0]\n",
    "    # Reiz representation, clip denominator at 0.01\n",
    "    reisz = (D - prop_preds) / np.clip(prop_preds * (1 - prop_preds), .01, np.inf)\n",
    "    dr += (y - reg_preds_chosen) * reisz\n",
    "\n",
    "    return dr"
   ],
   "metadata": {
    "collapsed": false,
    "pycharm": {
     "name": "#%%\n"
    }
   }
  },
  {
   "cell_type": "code",
   "execution_count": 159,
   "outputs": [],
   "source": [
    "# Fits CATE in training, predicts in validation\n",
    "def fit_cate_train(reg_cate, dr_train, Ztrain, Zval):\n",
    "\n",
    "    reg_cate_fitted = reg_cate.fit(Ztrain, dr_train)\n",
    "    cate_preds = reg_cate_fitted.predict(Zval)\n",
    "\n",
    "    return cate_preds"
   ],
   "metadata": {
    "collapsed": false,
    "pycharm": {
     "name": "#%%\n"
    }
   }
  },
  {
   "cell_type": "code",
   "execution_count": 160,
   "outputs": [],
   "source": [
    "# CV prediction of CATEs\n",
    "def fit_cate_cv(reg_cate, dr, Z, D, shuffle = True, random_state = 712):\n",
    "\n",
    "    cv = StratifiedKFold(n_splits=n_splits, shuffle=shuffle, random_state=random_state)\n",
    "    splits = list(cv.split(Z, D))\n",
    "\n",
    "    n = X.shape[0]\n",
    "    cate_preds = np.zeros(n)\n",
    "\n",
    "    for train, test in splits:\n",
    "        reg_cate_fitted = reg_cate.fit(Z.iloc[train], dr[train])\n",
    "        cate_preds[test] = reg_cate_fitted.predict(Z.iloc[test])\n",
    "\n",
    "    return cate_preds"
   ],
   "metadata": {
    "collapsed": false,
    "pycharm": {
     "name": "#%%\n"
    }
   }
  },
  {
   "cell_type": "code",
   "execution_count": 154,
   "outputs": [],
   "source": [],
   "metadata": {
    "collapsed": false,
    "pycharm": {
     "name": "#%%\n"
    }
   }
  },
  {
   "cell_type": "code",
   "execution_count": 155,
   "outputs": [],
   "source": [],
   "metadata": {
    "collapsed": false,
    "pycharm": {
     "name": "#%%\n"
    }
   }
  },
  {
   "cell_type": "code",
   "execution_count": 137,
   "outputs": [],
   "source": [
    "reg_preds_train, prop_preds_train = fit_nuisance_cv(model_reg_zero, model_t, X, D, y)\n",
    "dr_train = calculate_dr_outcomes(D, y, reg_preds_train, prop_preds_train)"
   ],
   "metadata": {
    "collapsed": false,
    "pycharm": {
     "name": "#%%\n"
    }
   }
  },
  {
   "cell_type": "code",
   "execution_count": 138,
   "outputs": [],
   "source": [
    "reg_preds_val, prop_preds_val = fit_nuisance_train(model_reg_zero, model_t, X, D, y, Xval, Dval)\n",
    "dr_val = calculate_dr_outcomes(Dval, yval, reg_preds_val, prop_preds_val)"
   ],
   "metadata": {
    "collapsed": false,
    "pycharm": {
     "name": "#%%\n"
    }
   }
  },
  {
   "cell_type": "code",
   "execution_count": 139,
   "outputs": [],
   "source": [
    "cate_preds_train = fit_cate_cv(drlearner, dr_train, Z, D)\n",
    "cate_preds_val = fit_cate_train(drlearner, dr_train, Z, Zval)"
   ],
   "metadata": {
    "collapsed": false,
    "pycharm": {
     "name": "#%%\n"
    }
   }
  },
  {
   "cell_type": "code",
   "execution_count": 167,
   "outputs": [
    {
     "ename": "SyntaxError",
     "evalue": "invalid syntax (3511895339.py, line 4)",
     "output_type": "error",
     "traceback": [
      "\u001B[0;36m  Cell \u001B[0;32mIn[167], line 4\u001B[0;36m\u001B[0m\n\u001B[0;31m    (hi1 not None) & (hi2 not None)\u001B[0m\n\u001B[0m             ^\u001B[0m\n\u001B[0;31mSyntaxError\u001B[0m\u001B[0;31m:\u001B[0m invalid syntax\n"
     ]
    }
   ],
   "source": [
    "hi1 = None\n",
    "hi2 = None\n",
    "\n",
    "(hi1 != None) & (hi2 != None)"
   ],
   "metadata": {
    "collapsed": false,
    "pycharm": {
     "name": "#%%\n"
    }
   }
  },
  {
   "cell_type": "code",
   "execution_count": null,
   "outputs": [],
   "source": [
    "import numpy as np\n",
    "from statsmodels.api import OLS\n",
    "from statsmodels.tools import add_constant\n",
    "from sklearn.model_selection import cross_val_predict, StratifiedKFold\n",
    "\n",
    "class DRtester:\n",
    "\n",
    "\n",
    "    def __init__(\n",
    "        self,\n",
    "        reg_outcome,\n",
    "        reg_t\n",
    "    ):\n",
    "        self.reg_outcome = reg_outcome\n",
    "        self.reg_t = reg_t\n",
    "\n",
    "    # Fits nusisance and CATE\n",
    "    def fit(\n",
    "        self,\n",
    "        reg_cate,\n",
    "        Xval,\n",
    "        Dval,\n",
    "        yval,\n",
    "        Zval,\n",
    "        Xtrain = None,\n",
    "        Dtrain = None,\n",
    "        ytrain = None,\n",
    "        Ztrain = None):\n",
    "\n",
    "        if (Xtrain != None) & (Dtrain != None) & (ytrain != None) & (Ztrain != None):\n",
    "            reg_preds_train, prop_preds_train = fit_nuisance_cv(self.reg_outcome, self.reg_t, Xtrain, Dtrain, ytrain)\n",
    "            self.dr_train = calculate_dr_outcomes(Dtrain, ytrain, reg_preds_train, prop_preds_train)\n",
    "\n",
    "            reg_preds_val, prop_preds_val = fit_nuisance_train(self.reg_outcome, self.reg_t, Xtrain, Dtrain, ytrain, Xval, Dval)\n",
    "            self.dr_val = calculate_dr_outcomes(Dval, yval, reg_preds_val, prop_preds_val)\n",
    "\n",
    "            self.cate_preds_val = fit_cate_train(reg_cate, self.dr_train, Ztrain, Zval)\n",
    "            self.cate_preds_train = fit_cate_cv(reg_cate, self.dr_train, Ztrain, Dtrain)\n",
    "\n",
    "        else:\n",
    "            reg_preds_val, prop_preds_val = fit_nuisance_cv(self.reg_outcome, self.reg_t, Xval, Dval, yval)\n",
    "            self.dr_train = calculate_dr_outcomes(Dtrain, ytrain, reg_preds_val, prop_preds_val)\n",
    "            self.cate_preds_val =  fit_cate_cv(reg_cate, self.dr_val, Zval, Dval)\n",
    "\n",
    "        return self\n",
    "\n",
    "\n",
    "    def evaluate_blp(self):\n",
    "        self.res = OLS(self.dr_val, add_constant(self.cate_preds_val)).fit()\n",
    "\n",
    "        return self\n",
    "\n",
    "    # Fits nuisance in train, predicts in validation\n",
    "    def fit_nuisance_train(self, reg_outcome, reg_t, Xtrain, Dtrain, ytrain, Xval, Dval):\n",
    "\n",
    "        tmts = np.unique(D)\n",
    "        n = Xval.shape[0]\n",
    "        k = len(tmts)\n",
    "        reg_preds = np.zeros((n, k))\n",
    "        for i in range(k):\n",
    "            reg_outcome_fitted = reg_outcome().fit(Xtrain[Dtrain == tmts[i]], ytrain[Dtrain == tmts[i]])\n",
    "            reg_preds[:, i] = reg_outcome_fitted.predict(Xval)\n",
    "\n",
    "        reg_t_fitted = reg_t().fit(Xtrain, Dtrain)\n",
    "        prop_preds = reg_t_fitted.predict(Xval)\n",
    "\n",
    "        return reg_preds, prop_preds\n",
    "\n",
    "    # CV nuisance predictions\n",
    "    def fit_nuisance_cv(reg_outcome, reg_t, X, D, y, nsplits = 5, shuffle = True, random_state = 712):\n",
    "\n",
    "        cv = StratifiedKFold(n_splits=n_splits, shuffle=shuffle, random_state=random_state)\n",
    "        splits = list(cv.split(X, D))\n",
    "\n",
    "        tmts = np.unique(D)\n",
    "        n = X.shape[0]\n",
    "        k = len(tmts)\n",
    "        reg_preds = np.zeros((n, k))\n",
    "\n",
    "        for i in range(k):\n",
    "            for train, test in splits:\n",
    "                reg_outcome_fitted = reg_outcome().fit(X.iloc[train][D[train] == tmts[i]], y[train][D[train] == tmts[i]])\n",
    "                reg_preds[test, i] = reg_outcome_fitted.predict(X.iloc[test])\n",
    "\n",
    "        prop_preds = cross_val_predict(model_t(), X, D, cv=splits)\n",
    "\n",
    "        return reg_preds, prop_preds\n",
    "\n",
    "    # Calculates DR outcomes\n",
    "    def calculate_dr_outcomes(\n",
    "            self,\n",
    "            D,\n",
    "            y,\n",
    "            reg_preds,\n",
    "            prop_preds\n",
    "    ):\n",
    "\n",
    "        reg_preds_chosen = np.sum(reg_preds * np.column_stack((D, 1 - D)), axis = 1)\n",
    "\n",
    "        # Calculate doubly-robust outcome\n",
    "        dr = reg_preds[:, 1] - reg_preds[:, 0]\n",
    "        # Reiz representation, clip denominator at 0.01\n",
    "        reisz = (D - prop_preds) / np.clip(prop_preds * (1 - prop_preds), .01, np.inf)\n",
    "        dr += (y - reg_preds_chosen) * reisz\n",
    "\n",
    "        return dr\n",
    "\n",
    "    # Fits CATE in training, predicts in validation\n",
    "    def fit_cate_train(reg_cate, dr_train, Ztrain, Zval):\n",
    "\n",
    "        reg_cate_fitted = reg_cate.fit(Ztrain, dr_train)\n",
    "        cate_preds = reg_cate_fitted.predict(Zval)\n",
    "\n",
    "        return cate_preds\n",
    "\n",
    "    # CV prediction of CATEs\n",
    "    def fit_cate_cv(reg_cate, dr, Z, D, shuffle = True, random_state = 712):\n",
    "\n",
    "        cv = StratifiedKFold(n_splits=n_splits, shuffle=shuffle, random_state=random_state)\n",
    "        splits = list(cv.split(Z, D))\n",
    "\n",
    "        n = X.shape[0]\n",
    "        cate_preds = np.zeros(n)\n",
    "\n",
    "        for train, test in splits:\n",
    "            reg_cate_fitted = reg_cate.fit(Z.iloc[train], dr[train])\n",
    "            cate_preds[test] = reg_cate_fitted.predict(Z.iloc[test])\n",
    "\n",
    "        return cate_preds"
   ],
   "metadata": {
    "collapsed": false,
    "pycharm": {
     "name": "#%%\n"
    }
   }
  },
  {
   "cell_type": "code",
   "execution_count": null,
   "outputs": [],
   "source": [],
   "metadata": {
    "collapsed": false,
    "pycharm": {
     "name": "#%%\n"
    }
   }
  },
  {
   "cell_type": "code",
   "execution_count": null,
   "outputs": [],
   "source": [
    "    def fit_ols(\n",
    "\n",
    "    ):\n",
    "        # Generate CATE predictions\n",
    "        self.cate_predictions_ = self.cate_model.predict(Z)\n",
    "\n",
    "        # Fit OLS of DR outcomes on constant and CATE predictions\n",
    "        self.res = OLS(self.dr_outcomes_, add_constant(self.cate_predictions_)).fit()\n",
    "\n",
    "        self.params = self.res.params\n",
    "\n",
    "        self.bse = self.res.bse\n",
    "\n",
    "        return self"
   ],
   "metadata": {
    "collapsed": false,
    "pycharm": {
     "name": "#%%\n"
    }
   }
  },
  {
   "cell_type": "code",
   "execution_count": 68,
   "outputs": [],
   "source": [
    "# Function to fit nuisance models on entire training data\n",
    "def fit_nuisance_train(reg_outcome, reg_t, Xtrain, Dtrain, ytrain, Xval, Dval):\n",
    "\n",
    "    treatments = np.unique(D)\n",
    "    n = Xval.shape[0]\n",
    "    k = len(treatments)\n",
    "    reg_preds = np.zeros((n, k))\n",
    "    for i in treatments:\n",
    "        reg_outcome_fitted = reg_outcome().fit(Xtrain[Dtrain == i], ytrain[Dtrain == i])\n",
    "        reg_preds[:, i] = reg_outcome_fitted.predict(Xval)\n",
    "\n",
    "    reg_t_fitted = reg_t().fit(Xtrain, Dtrain)\n",
    "    prop_preds = reg_t_fitted.predict(Xval)\n",
    "\n",
    "    return reg_preds, prop_preds"
   ],
   "metadata": {
    "collapsed": false,
    "pycharm": {
     "name": "#%%\n"
    }
   }
  },
  {
   "cell_type": "code",
   "execution_count": 90,
   "outputs": [
    {
     "data": {
      "text/plain": "array([ 6449.58496094, 18649.83398438,  7694.6171875 , ...,\n        2064.67675781,   493.85369873,  4647.69042969])"
     },
     "execution_count": 90,
     "metadata": {},
     "output_type": "execute_result"
    }
   ],
   "source": [
    "\n",
    "\n",
    "np.sum(reg_preds * np.column_stack((Dval, 1 - Dval)), axis = 1)\n"
   ],
   "metadata": {
    "collapsed": false,
    "pycharm": {
     "name": "#%%\n"
    }
   }
  },
  {
   "cell_type": "code",
   "execution_count": 89,
   "outputs": [
    {
     "data": {
      "text/plain": "array([ 6449.58496094, 18649.83398438,  7694.6171875 , ...,\n        2064.67675781,   493.85369873,  4647.69042969])"
     },
     "execution_count": 89,
     "metadata": {},
     "output_type": "execute_result"
    }
   ],
   "source": [],
   "metadata": {
    "collapsed": false,
    "pycharm": {
     "name": "#%%\n"
    }
   }
  },
  {
   "cell_type": "code",
   "execution_count": 83,
   "outputs": [
    {
     "data": {
      "text/plain": "(1943, 2)"
     },
     "execution_count": 83,
     "metadata": {},
     "output_type": "execute_result"
    }
   ],
   "source": [
    "reg_preds.shape"
   ],
   "metadata": {
    "collapsed": false,
    "pycharm": {
     "name": "#%%\n"
    }
   }
  },
  {
   "cell_type": "code",
   "execution_count": 121,
   "outputs": [],
   "source": [
    "def calculate_dr_outcomes(\n",
    "        D,\n",
    "        y,\n",
    "        reg_preds,\n",
    "        prop_preds\n",
    "):\n",
    "\n",
    "    reg_preds_chosen = np.sum(reg_preds * np.column_stack((D, 1 - D)), axis = 1)\n",
    "\n",
    "    # Calculate doubly-robust outcome\n",
    "    dr = reg_preds[:, 1] - reg_preds[:, 0]\n",
    "    # Reiz representation, clip denominator at 0.01\n",
    "    reisz = (D - prop_preds) / np.clip(prop_preds * (1 - prop_preds), .01, np.inf)\n",
    "    dr += (y - reg_preds_chosen) * reisz\n",
    "\n",
    "    return dr"
   ],
   "metadata": {
    "collapsed": false,
    "pycharm": {
     "name": "#%%\n"
    }
   }
  },
  {
   "cell_type": "code",
   "execution_count": 97,
   "outputs": [],
   "source": [
    "reg_preds, prop_preds = fit_nuisance_train(model_reg_zero, model_t, X, D, y, Xval, Dval)\n",
    "\n",
    "dr = calculate_dr_outcomes(Dval, yval, reg_preds, prop_preds)"
   ],
   "metadata": {
    "collapsed": false,
    "pycharm": {
     "name": "#%%\n"
    }
   }
  },
  {
   "cell_type": "code",
   "execution_count": 98,
   "outputs": [],
   "source": [],
   "metadata": {
    "collapsed": false,
    "pycharm": {
     "name": "#%%\n"
    }
   }
  },
  {
   "cell_type": "code",
   "execution_count": 59,
   "outputs": [],
   "source": [
    "# Function to fit nuisance models (cv) in validation data\n",
    "def fit_nuisance_cv(reg_outcome, reg_t, X, D, y, nsplits = 5, shuffle = True, random_state = 712):\n",
    "\n",
    "    cv = StratifiedKFold(n_splits=n_splits, shuffle=shuffle, random_state=random_state)\n",
    "    splits = list(cv.split(X, D))\n",
    "\n",
    "    n = X.shape[0]\n",
    "    reg_preds = np.zeros(n)\n",
    "    reg_one_preds = np.zeros(n)\n",
    "    reg_zero_preds = np.zeros(n)\n",
    "\n",
    "    DX = np.column_stack((D, X))\n",
    "    for train, test in splits:\n",
    "        reg = model_reg().fit(DX[train], y[train])\n",
    "        reg_preds[test] = reg.predict(DX[test])\n",
    "        reg_one_preds[test] = reg.predict(np.column_stack([np.ones(len(test)), X.iloc[test]]))\n",
    "        reg_zero_preds[test] = reg.predict(np.column_stack([np.zeros(len(test)), X.iloc[test]]))\n",
    "\n",
    "    prop_preds = cross_val_predict(model_t(), X, D, cv=splits)\n",
    "\n",
    "    return reg_preds, reg_one_preds, reg_zero_preds, prop_preds"
   ],
   "metadata": {
    "collapsed": false,
    "pycharm": {
     "name": "#%%\n"
    }
   }
  },
  {
   "cell_type": "code",
   "execution_count": 60,
   "outputs": [],
   "source": [
    "reg_preds, reg_one_preds, reg_zero_preds, prop_preds = fit_nuisance_cv(model_reg, model_t, Xval, Dval, yval)"
   ],
   "metadata": {
    "collapsed": false,
    "pycharm": {
     "name": "#%%\n"
    }
   }
  },
  {
   "cell_type": "code",
   "execution_count": null,
   "outputs": [],
   "source": [
    "def fit_cate_cv(reg_cate, Ztrain, )"
   ],
   "metadata": {
    "collapsed": false,
    "pycharm": {
     "name": "#%%\n"
    }
   }
  },
  {
   "cell_type": "code",
   "execution_count": 51,
   "outputs": [],
   "source": [
    "reg_preds, reg_one_preds, reg_zero_preds, prop_preds = fit_predict_nuisance(model_reg, model_t, X, D, y, Xval, Dval)"
   ],
   "metadata": {
    "collapsed": false,
    "pycharm": {
     "name": "#%%\n"
    }
   }
  },
  {
   "cell_type": "code",
   "execution_count": 54,
   "outputs": [],
   "source": [
    "def calculate_dr_outcomes(\n",
    "        D,\n",
    "        y,\n",
    "        reg_preds,\n",
    "        reg_zero_preds,\n",
    "        reg_one_preds,\n",
    "        prop_preds\n",
    "):\n",
    "    # Calculate doubly-robust outcome\n",
    "    dr = reg_one_preds - reg_zero_preds\n",
    "    # Reiz representation, clip denominator at 0.01\n",
    "    reisz = (D - prop_preds) / np.clip(prop_preds * (1 - prop_preds), .01, np.inf)\n",
    "    dr += (y - reg_preds) * reisz\n",
    "\n",
    "    return dr"
   ],
   "metadata": {
    "collapsed": false,
    "pycharm": {
     "name": "#%%\n"
    }
   }
  },
  {
   "cell_type": "code",
   "execution_count": 56,
   "outputs": [],
   "source": [
    "dr_val = calculate_dr_outcomes(Dval, yval, reg_preds, reg_one_preds, reg_zero_preds, prop_preds)"
   ],
   "metadata": {
    "collapsed": false,
    "pycharm": {
     "name": "#%%\n"
    }
   }
  },
  {
   "cell_type": "markdown",
   "source": [
    "### Linear Regression Validation"
   ],
   "metadata": {
    "collapsed": false,
    "pycharm": {
     "name": "#%% md\n"
    }
   }
  },
  {
   "cell_type": "code",
   "execution_count": null,
   "outputs": [],
   "source": [
    "my_drlinear = DRLinear(drlearner, reg_zero, reg_one, reg_t)\n",
    "my_drlinear = my_drlinear.fit(Xval, Dval, yval, Zval)\n",
    "\n",
    "print('Coefficient on CATE prediction:', round(my_drlinear.params[1], 3))\n",
    "print('Standard Error:', round(my_drlinear.bse[1], 3))"
   ],
   "metadata": {
    "collapsed": false,
    "pycharm": {
     "name": "#%%\n"
    }
   }
  },
  {
   "cell_type": "markdown",
   "source": [
    "### Calibration Validation"
   ],
   "metadata": {
    "collapsed": false,
    "pycharm": {
     "name": "#%% md\n"
    }
   }
  },
  {
   "cell_type": "code",
   "execution_count": null,
   "outputs": [],
   "source": [
    "my_cal_scorer = cal_scorer(drlearner, reg_zero, reg_one, reg_t, 4)\n",
    "res_cal = my_cal_scorer.score(Xval, Dval, yval, Zval, Ztest)\n",
    "\n",
    "df_cal = pd.DataFrame({'gate': res_cal.gate, 'g_cate': res_cal.g_cate,\n",
    "                       'se_gate': res_cal.se_gate})\n",
    "df_cal['95_err'] = 1.96 * df_cal['se_gate']"
   ],
   "metadata": {
    "collapsed": false,
    "pycharm": {
     "name": "#%%\n"
    }
   }
  },
  {
   "cell_type": "code",
   "execution_count": null,
   "outputs": [],
   "source": [
    "df_cal.plot(\n",
    "    kind='scatter',\n",
    "    x='g_cate',\n",
    "    y='gate',\n",
    "    yerr='95_err',\n",
    "    title=f\"Calibration R^2 = {round(res_cal.r_squared_cal, 3)}\"\n",
    ")"
   ],
   "metadata": {
    "collapsed": false,
    "pycharm": {
     "name": "#%%\n"
    }
   }
  },
  {
   "cell_type": "code",
   "execution_count": null,
   "outputs": [],
   "source": [],
   "metadata": {
    "collapsed": false,
    "pycharm": {
     "name": "#%%\n"
    }
   }
  },
  {
   "cell_type": "code",
   "execution_count": null,
   "outputs": [],
   "source": [],
   "metadata": {
    "collapsed": false,
    "pycharm": {
     "name": "#%%\n"
    }
   }
  }
 ],
 "metadata": {
  "kernelspec": {
   "display_name": "Python 3",
   "language": "python",
   "name": "python3"
  },
  "language_info": {
   "codemirror_mode": {
    "name": "ipython",
    "version": 2
   },
   "file_extension": ".py",
   "mimetype": "text/x-python",
   "name": "python",
   "nbconvert_exporter": "python",
   "pygments_lexer": "ipython2",
   "version": "2.7.6"
  }
 },
 "nbformat": 4,
 "nbformat_minor": 0
}