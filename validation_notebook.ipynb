{
 "cells": [
  {
   "cell_type": "code",
   "execution_count": 1,
   "outputs": [],
   "source": [
    "import numpy as np\n",
    "import pandas as pd\n",
    "import scipy.stats as st\n",
    "from sklearn.ensemble import RandomForestClassifier, GradientBoostingRegressor\n",
    "\n",
    "from drtester import DRtester"
   ],
   "metadata": {
    "collapsed": false,
    "pycharm": {
     "name": "#%%\n"
    }
   }
  },
  {
   "cell_type": "markdown",
   "source": [
    "### Generate Data\n",
    "\n",
    "Setting with 5 continuous covariates, 2 categorical treatments (and a control), and a continous outcome. Treatment assignment is based on the covariates and random noise. The outcome is based on covariates, treatment, and random noise. For the second treatment, the effect is conditional on the second covariate (X[:, 1])."
   ],
   "metadata": {
    "collapsed": false,
    "pycharm": {
     "name": "#%% md\n"
    }
   }
  },
  {
   "cell_type": "code",
   "execution_count": 18,
   "outputs": [],
   "source": [
    " np.random.seed(123)\n",
    "\n",
    "N = 20000  # number of units\n",
    "K = 5  # number of covariates\n",
    "num_treatments = 2 # number of treatments (excluding control)\n",
    "\n",
    "# Generate random Xs\n",
    "X_mu = np.zeros(5)  # Means of Xs\n",
    "# Random covariance matrix of Xs\n",
    "X_sig = np.diag(np.random.rand(5))\n",
    "X = st.multivariate_normal(X_mu, X_sig).rvs(N)\n",
    "\n",
    "# Effect of Xs on outcome\n",
    "X_beta = np.random.uniform(0, 5, K)\n",
    "# Effect of treatment on outcomes\n",
    "D_beta = np.array([0, 1, 2])\n",
    "# Effect of treatment on outcome conditional on X1\n",
    "DX1_beta = np.array([0, 0, 3])\n",
    "\n",
    "# Generate treatments based on X and random noise\n",
    "beta_treat = np.random.uniform(-1, 1, (num_treatments + 1, K))\n",
    "D1 = np.zeros((N, num_treatments + 1))\n",
    "for k in range(num_treatments + 1):\n",
    "    D1[:, k] = X @ beta_treat[k, :] + np.random.gumbel(0, 1, N)\n",
    "D = np.array([np.where(D1[i, :] == np.max(D1[i, :]))[0][0] for i in range(N)])\n",
    "D_dum = pd.get_dummies(D)\n",
    "\n",
    "# Generate Y (based on X, D, and random noise)\n",
    "Y_sig = 1  # Variance of random outcome noise\n",
    "Y = X @ X_beta + (D_dum @ D_beta) + X[:, 1] * (D_dum @ DX1_beta) + np.random.normal(0, Y_sig, N)\n",
    "Y = Y.to_numpy()\n",
    "\n",
    "# Split into training/validation samples\n",
    "train_prop = .5\n",
    "train_N = np.ceil(train_prop * N)\n",
    "ind = np.array(range(N))\n",
    "train_ind = np.random.choice(N, int(train_N), replace=False)\n",
    "val_ind = ind[~np.isin(ind, train_ind)]\n",
    "\n",
    "Xtrain, Dtrain, Ytrain = X[train_ind], D[train_ind], Y[train_ind]\n",
    "Xval, Dval, Yval = X[val_ind], D[val_ind], Y[val_ind]"
   ],
   "metadata": {
    "collapsed": false,
    "pycharm": {
     "name": "#%%\n"
    }
   }
  },
  {
   "cell_type": "markdown",
   "source": [
    "### Validation\n",
    "We use a simple (un-tuned) random forest classifier to predict treatment and an un-tuned gradient boosted regressor both to predict outcomes and as the CATE model. In the true data, there is heterogeneity by the second covariate (X[:, 1]) for the second treatment (D = 2) but not for the first (D = 1). Therefore, we should see a significant blp_est, significant qini coefficient, and high calibration r-squared for the second treatment. We should see an insignificant blp estimate, lower qini coefficient, and lower calibration r-squared for the first treatment."
   ],
   "metadata": {
    "collapsed": false,
    "pycharm": {
     "name": "#%% md\n"
    }
   }
  },
  {
   "cell_type": "code",
   "execution_count": 19,
   "outputs": [],
   "source": [
    "# Simple classifier and regressor for propensity, outcome, and cate\n",
    "reg_t = RandomForestClassifier()\n",
    "reg_y = GradientBoostingRegressor()\n",
    "reg_cate = GradientBoostingRegressor()"
   ],
   "metadata": {
    "collapsed": false,
    "pycharm": {
     "name": "#%%\n"
    }
   }
  },
  {
   "cell_type": "code",
   "execution_count": 20,
   "outputs": [],
   "source": [
    "# Initialize DRtester and fit/predict nuisance models\n",
    "my_dr_tester = DRtester(reg_y, reg_t).fit_nuisance(Xval, Dval, Yval, Xtrain, Dtrain, Ytrain)"
   ],
   "metadata": {
    "collapsed": false,
    "pycharm": {
     "name": "#%%\n"
    }
   }
  },
  {
   "cell_type": "code",
   "execution_count": 21,
   "outputs": [],
   "source": [
    "# Evaluate CATE model using all methods\n",
    "Ztrain = Xtrain[:, 1]\n",
    "Zval = Xval[:, 1]\n",
    "my_dr_tester = my_dr_tester.evaluate_all(reg_cate, Zval, Ztrain)"
   ],
   "metadata": {
    "collapsed": false,
    "pycharm": {
     "name": "#%%\n"
    }
   }
  },
  {
   "cell_type": "code",
   "execution_count": 22,
   "outputs": [
    {
     "name": "stdout",
     "output_type": "stream",
     "text": [
      "   treatment  blp_est  blp_se  blp_pval  qini_coeff  qini_se  qini_pval   \n",
      "0          1    0.045   0.045     0.314       0.042    0.021      0.024  \\\n",
      "1          2    0.567   0.074     0.000       0.386    0.031      0.000   \n",
      "\n",
      "   cal_r_squared  \n",
      "0         -0.053  \n",
      "1          0.802  \n"
     ]
    }
   ],
   "source": [
    "print(my_dr_tester.df_res)"
   ],
   "metadata": {
    "collapsed": false,
    "pycharm": {
     "name": "#%%\n"
    }
   }
  },
  {
   "cell_type": "markdown",
   "source": [],
   "metadata": {
    "collapsed": false,
    "pycharm": {
     "name": "#%% md\n"
    }
   }
  },
  {
   "cell_type": "markdown",
   "source": [
    "#### Plot Calibration\n",
    "\n",
    "We can also plot the calibration for each treatment. There should be a strong positive relationship for treatment 2 but a flat relationship for treatment 1"
   ],
   "metadata": {
    "collapsed": false,
    "pycharm": {
     "name": "#%% md\n"
    }
   }
  },
  {
   "cell_type": "code",
   "execution_count": 24,
   "outputs": [
    {
     "data": {
      "text/plain": "<Axes: title={'center': 'Treatment = 1, Calibration R^2 = -0.053'}, xlabel='Group Mean CATE', ylabel='GATE'>"
     },
     "execution_count": 24,
     "metadata": {},
     "output_type": "execute_result"
    },
    {
     "data": {
      "text/plain": "<Figure size 640x480 with 1 Axes>",
      "image/png": "[encoded data removed]"
     },
     "metadata": {},
     "output_type": "display_data"
    }
   ],
   "source": [
    "my_dr_tester.plot_cal(1)"
   ],
   "metadata": {
    "collapsed": false,
    "pycharm": {
     "name": "#%%\n"
    }
   }
  },
  {
   "cell_type": "code",
   "execution_count": 25,
   "outputs": [
    {
     "data": {
      "text/plain": "<Axes: title={'center': 'Treatment = 2, Calibration R^2 = 0.802'}, xlabel='Group Mean CATE', ylabel='GATE'>"
     },
     "execution_count": 25,
     "metadata": {},
     "output_type": "execute_result"
    },
    {
     "data": {
      "text/plain": "<Figure size 640x480 with 1 Axes>",
      "image/png": "[encoded data removed]"
     },
     "metadata": {},
     "output_type": "display_data"
    }
   ],
   "source": [
    "my_dr_tester.plot_cal(2)"
   ],
   "metadata": {
    "collapsed": false,
    "pycharm": {
     "name": "#%%\n"
    }
   }
  }
 ],
 "metadata": {
  "kernelspec": {
   "display_name": "Python 3",
   "language": "python",
   "name": "python3"
  },
  "language_info": {
   "codemirror_mode": {
    "name": "ipython",
    "version": 2
   },
   "file_extension": ".py",
   "mimetype": "text/x-python",
   "name": "python",
   "nbconvert_exporter": "python",
   "pygments_lexer": "ipython2",
   "version": "2.7.6"
  }
 },
 "nbformat": 4,
 "nbformat_minor": 0
}